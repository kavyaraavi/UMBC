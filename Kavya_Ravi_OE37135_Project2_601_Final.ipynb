{
 "cells": [
  {
   "cell_type": "markdown",
   "id": "82064406",
   "metadata": {},
   "source": [
    "# 601 Project 2\n",
    "## This Analysis is about Town Cary Crashes from the Year 2012 to 2017\n",
    "### DataSet Source: https://data.world/townofcary/cpd-crash-incidents/workspace/file?filename=crash-data_4.csv\n",
    "\n",
    "### The Analysis Include following Hypothesis:\n",
    "#####    1. Most Crashes happen in which Weather. \n",
    "#####    2. Crashes happen in which light conditions.\n",
    "#####    3. Percentage of injuries during Crash.\n",
    "#####    4.Crashes happen in which part of the day.\n",
    "#####    5. Which part of the week more crashes occur.\n",
    "#####    6. Which type of roads has less crashes reported.\n",
    "#####    7. Which month recorded less crashes."
   ]
  },
  {
   "cell_type": "code",
   "execution_count": 204,
   "id": "5949184e",
   "metadata": {},
   "outputs": [
    {
     "name": "stdout",
     "output_type": "stream",
     "text": [
      "Requirement already satisfied: opendatasets in c:\\users\\kavya\\anaconda3\\lib\\site-packages (0.1.20)\n",
      "Requirement already satisfied: click in c:\\users\\kavya\\anaconda3\\lib\\site-packages (from opendatasets) (7.1.2)\n",
      "Requirement already satisfied: kaggle in c:\\users\\kavya\\anaconda3\\lib\\site-packages (from opendatasets) (1.5.12)\n",
      "Requirement already satisfied: tqdm in c:\\users\\kavya\\anaconda3\\lib\\site-packages (from opendatasets) (4.59.0)\n",
      "Requirement already satisfied: python-slugify in c:\\users\\kavya\\anaconda3\\lib\\site-packages (from kaggle->opendatasets) (5.0.2)\n",
      "Requirement already satisfied: requests in c:\\users\\kavya\\anaconda3\\lib\\site-packages (from kaggle->opendatasets) (2.25.1)\n",
      "Requirement already satisfied: certifi in c:\\users\\kavya\\anaconda3\\lib\\site-packages (from kaggle->opendatasets) (2020.12.5)\n",
      "Requirement already satisfied: six>=1.10 in c:\\users\\kavya\\anaconda3\\lib\\site-packages (from kaggle->opendatasets) (1.15.0)\n",
      "Requirement already satisfied: urllib3 in c:\\users\\kavya\\anaconda3\\lib\\site-packages (from kaggle->opendatasets) (1.26.4)\n",
      "Requirement already satisfied: python-dateutil in c:\\users\\kavya\\anaconda3\\lib\\site-packages (from kaggle->opendatasets) (2.8.1)\n",
      "Requirement already satisfied: text-unidecode>=1.3 in c:\\users\\kavya\\anaconda3\\lib\\site-packages (from python-slugify->kaggle->opendatasets) (1.3)\n",
      "Requirement already satisfied: idna<3,>=2.5 in c:\\users\\kavya\\anaconda3\\lib\\site-packages (from requests->kaggle->opendatasets) (2.10)\n",
      "Requirement already satisfied: chardet<5,>=3.0.2 in c:\\users\\kavya\\anaconda3\\lib\\site-packages (from requests->kaggle->opendatasets) (4.0.0)\n",
      "Note: you may need to restart the kernel to use updated packages.\n"
     ]
    }
   ],
   "source": [
    "pip install opendatasets --upgrade"
   ]
  },
  {
   "cell_type": "code",
   "execution_count": 205,
   "id": "9af622a4",
   "metadata": {},
   "outputs": [
    {
     "name": "stdout",
     "output_type": "stream",
     "text": [
      "Using downloaded and verified file: .\\crash-data_4.csv\n"
     ]
    }
   ],
   "source": [
    "import opendatasets as od                                #importing opendatasets\n",
    "                                                         #downloading dataset from the URL\n",
    "download_url = 'https://github.com/kavyaraavi/UMBC/blob/main/crash-data_4.csv'\n",
    "    \n",
    "file=od.download(download_url)    #storing downloaded dataset to file    \n",
    "      "
   ]
  },
  {
   "cell_type": "code",
   "execution_count": 206,
   "id": "462f999c",
   "metadata": {},
   "outputs": [
    {
     "data": {
      "text/html": [
       "<div>\n",
       "<style scoped>\n",
       "    .dataframe tbody tr th:only-of-type {\n",
       "        vertical-align: middle;\n",
       "    }\n",
       "\n",
       "    .dataframe tbody tr th {\n",
       "        vertical-align: top;\n",
       "    }\n",
       "\n",
       "    .dataframe thead th {\n",
       "        text-align: right;\n",
       "    }\n",
       "</style>\n",
       "<table border=\"1\" class=\"dataframe\">\n",
       "  <thead>\n",
       "    <tr style=\"text-align: right;\">\n",
       "      <th></th>\n",
       "      <th>tamainid</th>\n",
       "      <th>location_description</th>\n",
       "      <th>rdfeature</th>\n",
       "      <th>rdcharacter</th>\n",
       "      <th>rdclass</th>\n",
       "      <th>rdconfigur</th>\n",
       "      <th>rdsurface</th>\n",
       "      <th>rdcondition</th>\n",
       "      <th>lightcond</th>\n",
       "      <th>weather</th>\n",
       "      <th>...</th>\n",
       "      <th>fatalities</th>\n",
       "      <th>injuries</th>\n",
       "      <th>month</th>\n",
       "      <th>contrfact1</th>\n",
       "      <th>contrfact2</th>\n",
       "      <th>contributing_factor</th>\n",
       "      <th>vehicleconcat1</th>\n",
       "      <th>vehicleconcat2</th>\n",
       "      <th>vehicleconcat3</th>\n",
       "      <th>vehicle_type</th>\n",
       "    </tr>\n",
       "  </thead>\n",
       "  <tbody>\n",
       "    <tr>\n",
       "      <th>0</th>\n",
       "      <td>2973</td>\n",
       "      <td>25 FEET FROM DILLARD DR</td>\n",
       "      <td>RELATED TO INTERSECTION</td>\n",
       "      <td>\"STRAIGHT;LEVEL\"</td>\n",
       "      <td>\"STATE SECONDARY ROUTE\"</td>\n",
       "      <td>\"TWO-WAY;DIVIDED;UNPROTECTED MEDIAN\"</td>\n",
       "      <td>SMOOTH ASPHALT</td>\n",
       "      <td>DRY</td>\n",
       "      <td>DAYLIGHT</td>\n",
       "      <td>CLOUDY</td>\n",
       "      <td>...</td>\n",
       "      <td>No</td>\n",
       "      <td>No</td>\n",
       "      <td>2.0</td>\n",
       "      <td>NaN</td>\n",
       "      <td>NONE</td>\n",
       "      <td>\"NONE\"</td>\n",
       "      <td>PASSENGER CAR</td>\n",
       "      <td>PASSENGER CAR</td>\n",
       "      <td>PASSENGER CAR</td>\n",
       "      <td>\"PASSENGER CAR\"</td>\n",
       "    </tr>\n",
       "    <tr>\n",
       "      <th>1</th>\n",
       "      <td>2978</td>\n",
       "      <td>20 FEET FROM NC 55 HWY</td>\n",
       "      <td>RELATED TO INTERSECTION</td>\n",
       "      <td>\"STRAIGHT;LEVEL\"</td>\n",
       "      <td>\"NC ROUTE\"</td>\n",
       "      <td>\"TWO-WAY;DIVIDED;UNPROTECTED MEDIAN\"</td>\n",
       "      <td>SMOOTH ASPHALT</td>\n",
       "      <td>DRY</td>\n",
       "      <td>DUSK</td>\n",
       "      <td>CLEAR</td>\n",
       "      <td>...</td>\n",
       "      <td>No</td>\n",
       "      <td>Yes</td>\n",
       "      <td>2.0</td>\n",
       "      <td>NONE</td>\n",
       "      <td>NONE</td>\n",
       "      <td>NaN</td>\n",
       "      <td>NaN</td>\n",
       "      <td>NaN</td>\n",
       "      <td>NaN</td>\n",
       "      <td>NaN</td>\n",
       "    </tr>\n",
       "    <tr>\n",
       "      <th>2</th>\n",
       "      <td>2986</td>\n",
       "      <td>300 FEET FROM  KINGSTON GROVE DR</td>\n",
       "      <td>NO SPECIAL FEATURE</td>\n",
       "      <td>\"STRAIGHT;GRADE\"</td>\n",
       "      <td>\"LOCAL STREET\"</td>\n",
       "      <td>\"TWO-WAY;NOT DIVIDED\"</td>\n",
       "      <td>SMOOTH ASPHALT</td>\n",
       "      <td>DRY</td>\n",
       "      <td>DAYLIGHT</td>\n",
       "      <td>CLEAR</td>\n",
       "      <td>...</td>\n",
       "      <td>No</td>\n",
       "      <td>No</td>\n",
       "      <td>2.0</td>\n",
       "      <td>NaN</td>\n",
       "      <td>NONE</td>\n",
       "      <td>\"NONE\"</td>\n",
       "      <td>PASSENGER CAR</td>\n",
       "      <td>NaN</td>\n",
       "      <td>NaN</td>\n",
       "      <td>NaN</td>\n",
       "    </tr>\n",
       "    <tr>\n",
       "      <th>3</th>\n",
       "      <td>2989</td>\n",
       "      <td>CARY</td>\n",
       "      <td>NO SPECIAL FEATURE</td>\n",
       "      <td>\"STRAIGHT;LEVEL\"</td>\n",
       "      <td>\"LOCAL STREET\"</td>\n",
       "      <td>\"TWO-WAY;DIVIDED;UNPROTECTED MEDIAN\"</td>\n",
       "      <td>SMOOTH ASPHALT</td>\n",
       "      <td>DRY</td>\n",
       "      <td>DARK - LIGHTED ROADWAY</td>\n",
       "      <td>CLEAR</td>\n",
       "      <td>...</td>\n",
       "      <td>No</td>\n",
       "      <td>No</td>\n",
       "      <td>2.0</td>\n",
       "      <td>NONE</td>\n",
       "      <td>NONE</td>\n",
       "      <td>NaN</td>\n",
       "      <td>NaN</td>\n",
       "      <td>NaN</td>\n",
       "      <td>NaN</td>\n",
       "      <td>NaN</td>\n",
       "    </tr>\n",
       "    <tr>\n",
       "      <th>4</th>\n",
       "      <td>2999</td>\n",
       "      <td>CARY</td>\n",
       "      <td>NO SPECIAL FEATURE</td>\n",
       "      <td>\"STRAIGHT;HILLCREST\"</td>\n",
       "      <td>\"STATE SECONDARY ROUTE\"</td>\n",
       "      <td>\"TWO-WAY;DIVIDED;UNPROTECTED MEDIAN\"</td>\n",
       "      <td>SMOOTH ASPHALT</td>\n",
       "      <td>WET</td>\n",
       "      <td>DAYLIGHT</td>\n",
       "      <td>RAIN</td>\n",
       "      <td>...</td>\n",
       "      <td>No</td>\n",
       "      <td>No</td>\n",
       "      <td>2.0</td>\n",
       "      <td>NONE</td>\n",
       "      <td>NONE</td>\n",
       "      <td>NaN</td>\n",
       "      <td>NaN</td>\n",
       "      <td>NaN</td>\n",
       "      <td>NaN</td>\n",
       "      <td>NaN</td>\n",
       "    </tr>\n",
       "  </tbody>\n",
       "</table>\n",
       "<p>5 rows × 47 columns</p>\n",
       "</div>"
      ],
      "text/plain": [
       "   tamainid              location_description                rdfeature  \\\n",
       "0      2973           25 FEET FROM DILLARD DR  RELATED TO INTERSECTION   \n",
       "1      2978            20 FEET FROM NC 55 HWY  RELATED TO INTERSECTION   \n",
       "2      2986  300 FEET FROM  KINGSTON GROVE DR       NO SPECIAL FEATURE   \n",
       "3      2989                              CARY       NO SPECIAL FEATURE   \n",
       "4      2999                              CARY       NO SPECIAL FEATURE   \n",
       "\n",
       "            rdcharacter                  rdclass  \\\n",
       "0      \"STRAIGHT;LEVEL\"  \"STATE SECONDARY ROUTE\"   \n",
       "1      \"STRAIGHT;LEVEL\"               \"NC ROUTE\"   \n",
       "2      \"STRAIGHT;GRADE\"           \"LOCAL STREET\"   \n",
       "3      \"STRAIGHT;LEVEL\"           \"LOCAL STREET\"   \n",
       "4  \"STRAIGHT;HILLCREST\"  \"STATE SECONDARY ROUTE\"   \n",
       "\n",
       "                             rdconfigur       rdsurface rdcondition  \\\n",
       "0  \"TWO-WAY;DIVIDED;UNPROTECTED MEDIAN\"  SMOOTH ASPHALT         DRY   \n",
       "1  \"TWO-WAY;DIVIDED;UNPROTECTED MEDIAN\"  SMOOTH ASPHALT         DRY   \n",
       "2                 \"TWO-WAY;NOT DIVIDED\"  SMOOTH ASPHALT         DRY   \n",
       "3  \"TWO-WAY;DIVIDED;UNPROTECTED MEDIAN\"  SMOOTH ASPHALT         DRY   \n",
       "4  \"TWO-WAY;DIVIDED;UNPROTECTED MEDIAN\"  SMOOTH ASPHALT         WET   \n",
       "\n",
       "                lightcond weather  ... fatalities  injuries  month  \\\n",
       "0                DAYLIGHT  CLOUDY  ...         No        No    2.0   \n",
       "1                    DUSK   CLEAR  ...         No       Yes    2.0   \n",
       "2                DAYLIGHT   CLEAR  ...         No        No    2.0   \n",
       "3  DARK - LIGHTED ROADWAY   CLEAR  ...         No        No    2.0   \n",
       "4                DAYLIGHT    RAIN  ...         No        No    2.0   \n",
       "\n",
       "   contrfact1  contrfact2 contributing_factor vehicleconcat1  vehicleconcat2  \\\n",
       "0         NaN        NONE              \"NONE\"  PASSENGER CAR   PASSENGER CAR   \n",
       "1        NONE        NONE                 NaN            NaN             NaN   \n",
       "2         NaN        NONE              \"NONE\"  PASSENGER CAR             NaN   \n",
       "3        NONE        NONE                 NaN            NaN             NaN   \n",
       "4        NONE        NONE                 NaN            NaN             NaN   \n",
       "\n",
       "   vehicleconcat3     vehicle_type  \n",
       "0   PASSENGER CAR  \"PASSENGER CAR\"  \n",
       "1             NaN              NaN  \n",
       "2             NaN              NaN  \n",
       "3             NaN              NaN  \n",
       "4             NaN              NaN  \n",
       "\n",
       "[5 rows x 47 columns]"
      ]
     },
     "execution_count": 206,
     "metadata": {},
     "output_type": "execute_result"
    }
   ],
   "source": [
    "import pandas as pd                                   #importing pandas\n",
    "df=pd.read_csv(r'crash-data_4.csv')  #reading downloaded dataset using dataframes as df\n",
    "df.head()           #displays top5 values from dataset"
   ]
  },
  {
   "cell_type": "code",
   "execution_count": 207,
   "id": "6fc403fc",
   "metadata": {
    "scrolled": true
   },
   "outputs": [
    {
     "data": {
      "text/plain": [
       "tamainid                    0\n",
       "location_description        2\n",
       "rdfeature                 735\n",
       "rdcharacter              3737\n",
       "rdclass                  3851\n",
       "rdconfigur               3857\n",
       "rdsurface                3730\n",
       "rdcondition              3725\n",
       "lightcond                3816\n",
       "weather                  3831\n",
       "trafcontrl               3991\n",
       "lat                     12567\n",
       "lon                     12567\n",
       "lon2                    10053\n",
       "lat2                    10050\n",
       "tract                   13105\n",
       "zone                    11639\n",
       "fatality                 3292\n",
       "possblinj                3292\n",
       "numpassengers           17690\n",
       "numpedestrians          25380\n",
       "contrcir1_desc           9170\n",
       "contrcir2_desc          25432\n",
       "contrcir3_desc           4160\n",
       "contrcir4_desc          25403\n",
       "vehicle1                 4295\n",
       "vehicle2                 7275\n",
       "vehicle3                24194\n",
       "vehicle4                25332\n",
       "vehicle5                25457\n",
       "workarea                 4058\n",
       "records                  3362\n",
       "ta_date                  3362\n",
       "ta_time                  3362\n",
       "crash_date               3362\n",
       "geo_location            12607\n",
       "year                     3362\n",
       "fatalities               3362\n",
       "injuries                 3362\n",
       "month                    3362\n",
       "contrfact1               9231\n",
       "contrfact2               4114\n",
       "contributing_factor     20195\n",
       "vehicleconcat1          20026\n",
       "vehicleconcat2          24544\n",
       "vehicleconcat3          24548\n",
       "vehicle_type            24548\n",
       "dtype: int64"
      ]
     },
     "execution_count": 207,
     "metadata": {},
     "output_type": "execute_result"
    }
   ],
   "source": [
    "Nullcheck = df.isnull().sum()    #checking how many null values are present in dataset by column\n",
    "Nullcheck"
   ]
  },
  {
   "cell_type": "code",
   "execution_count": 208,
   "id": "85bf6ccf",
   "metadata": {},
   "outputs": [
    {
     "name": "stdout",
     "output_type": "stream",
     "text": [
      "(25489, 47)\n"
     ]
    }
   ],
   "source": [
    "print(df.shape)   #Prints number of columns and rows"
   ]
  },
  {
   "cell_type": "code",
   "execution_count": 209,
   "id": "e59194ff",
   "metadata": {},
   "outputs": [],
   "source": [
    "drop_cols=['lon2','lat2','tract','zone','fatality','possblinj','numpedestrians','contrcir1_desc','contrcir2_desc','contrcir3_desc',\n",
    "          'contrcir4_desc','records','rdclass','rdcharacter','geo_location','contrfact2','contrfact1','vehicle3','tract','vehicle4','vehicle5','contributing_factor','vehicleconcat1','vehicleconcat2','vehicleconcat3','vehicle_type']\n",
    "\n",
    "df=df.drop(drop_cols,axis=1)          #Dropping the unwanted columns"
   ]
  },
  {
   "cell_type": "code",
   "execution_count": 210,
   "id": "418f31c4",
   "metadata": {},
   "outputs": [
    {
     "name": "stdout",
     "output_type": "stream",
     "text": [
      "tamainid                    0\n",
      "location_description        2\n",
      "rdfeature                 735\n",
      "rdconfigur               3857\n",
      "rdsurface                3730\n",
      "rdcondition              3725\n",
      "lightcond                3816\n",
      "weather                  3831\n",
      "trafcontrl               3991\n",
      "lat                     12567\n",
      "lon                     12567\n",
      "numpassengers           17690\n",
      "vehicle1                 4295\n",
      "vehicle2                 7275\n",
      "workarea                 4058\n",
      "ta_date                  3362\n",
      "ta_time                  3362\n",
      "crash_date               3362\n",
      "year                     3362\n",
      "fatalities               3362\n",
      "injuries                 3362\n",
      "month                    3362\n",
      "dtype: int64\n"
     ]
    }
   ],
   "source": [
    "print(df.isnull().sum())          #prints number of null values"
   ]
  },
  {
   "cell_type": "code",
   "execution_count": 211,
   "id": "75fbbb91",
   "metadata": {},
   "outputs": [
    {
     "name": "stdout",
     "output_type": "stream",
     "text": [
      "(25489, 22)\n"
     ]
    }
   ],
   "source": [
    "print(df.shape)             #Prints number of columns and rows"
   ]
  },
  {
   "cell_type": "code",
   "execution_count": 212,
   "id": "77857486",
   "metadata": {},
   "outputs": [],
   "source": [
    "df[\"numpassengers\"].fillna( method ='ffill', inplace = True)\n",
    "df[\"rdconfigur\"].fillna( method ='bfill', inplace = True)\n",
    "df[\"vehicle2\"].fillna( method ='ffill', inplace = True)\n",
    "df[\"lat\"].fillna( method ='bfill', inplace = True)\n",
    "df[\"lon\"].fillna( method ='bfill', inplace = True)\n",
    "\n",
    "#Filling up the null values using back fill and forward fill"
   ]
  },
  {
   "cell_type": "code",
   "execution_count": 213,
   "id": "6faedb0e",
   "metadata": {
    "scrolled": true
   },
   "outputs": [
    {
     "name": "stdout",
     "output_type": "stream",
     "text": [
      "tamainid                   0\n",
      "location_description       2\n",
      "rdfeature                735\n",
      "rdconfigur                 0\n",
      "rdsurface               3730\n",
      "rdcondition             3725\n",
      "lightcond               3816\n",
      "weather                 3831\n",
      "trafcontrl              3991\n",
      "lat                        0\n",
      "lon                        0\n",
      "numpassengers              3\n",
      "vehicle1                4295\n",
      "vehicle2                   1\n",
      "workarea                4058\n",
      "ta_date                 3362\n",
      "ta_time                 3362\n",
      "crash_date              3362\n",
      "year                    3362\n",
      "fatalities              3362\n",
      "injuries                3362\n",
      "month                   3362\n",
      "dtype: int64\n"
     ]
    }
   ],
   "source": [
    "print(df.isnull().sum())       #prints number of null values"
   ]
  },
  {
   "cell_type": "code",
   "execution_count": 214,
   "id": "f96b9999",
   "metadata": {},
   "outputs": [],
   "source": [
    "df1=df.drop_duplicates(keep='first')            #Dropping the duplicate values"
   ]
  },
  {
   "cell_type": "code",
   "execution_count": 215,
   "id": "9eb6230f",
   "metadata": {},
   "outputs": [
    {
     "name": "stdout",
     "output_type": "stream",
     "text": [
      "(25489, 22)\n",
      "(25489, 22)\n"
     ]
    }
   ],
   "source": [
    "print(df.shape) #After checking for duplicates           #printing the shape of datasets which gives number of columns and rows\n",
    "print(df1.shape) #Before checking for duplicates     \n",
    "#so here columns and rows were same before and after. So there are no duplicate values"
   ]
  },
  {
   "cell_type": "code",
   "execution_count": 216,
   "id": "5c2d1f90",
   "metadata": {},
   "outputs": [],
   "source": [
    "df.dropna(axis=0,inplace=True)            #dropping null values"
   ]
  },
  {
   "cell_type": "code",
   "execution_count": 217,
   "id": "78848b36",
   "metadata": {},
   "outputs": [
    {
     "name": "stdout",
     "output_type": "stream",
     "text": [
      "(20814, 22)\n"
     ]
    }
   ],
   "source": [
    "print(df.shape)                 ##printing the shape of datasets which gives number of columns and rows"
   ]
  },
  {
   "cell_type": "code",
   "execution_count": 218,
   "id": "13fb0f6e",
   "metadata": {},
   "outputs": [
    {
     "name": "stdout",
     "output_type": "stream",
     "text": [
      "tamainid                0\n",
      "location_description    0\n",
      "rdfeature               0\n",
      "rdconfigur              0\n",
      "rdsurface               0\n",
      "rdcondition             0\n",
      "lightcond               0\n",
      "weather                 0\n",
      "trafcontrl              0\n",
      "lat                     0\n",
      "lon                     0\n",
      "numpassengers           0\n",
      "vehicle1                0\n",
      "vehicle2                0\n",
      "workarea                0\n",
      "ta_date                 0\n",
      "ta_time                 0\n",
      "crash_date              0\n",
      "year                    0\n",
      "fatalities              0\n",
      "injuries                0\n",
      "month                   0\n",
      "dtype: int64\n"
     ]
    }
   ],
   "source": [
    "print(df.isnull().sum())            #prints number of null values"
   ]
  },
  {
   "cell_type": "markdown",
   "id": "c8da4c09",
   "metadata": {},
   "source": [
    "# EXPLORATORY DATA ANALYSIS"
   ]
  },
  {
   "cell_type": "markdown",
   "id": "ab4e2b80",
   "metadata": {},
   "source": [
    "## Hypothesis 1 :  Most Crashes happen in rainy days\n"
   ]
  },
  {
   "cell_type": "code",
   "execution_count": 219,
   "id": "10f3bf74",
   "metadata": {},
   "outputs": [
    {
     "data": {
      "text/plain": [
       "<AxesSubplot:title={'center':'Accidents by Weather'}, xlabel='weather', ylabel='count'>"
      ]
     },
     "execution_count": 219,
     "metadata": {},
     "output_type": "execute_result"
    },
    {
     "data": {
      "image/png": "[encoded data removed]",
      "text/plain": [
       "<Figure size 1080x504 with 1 Axes>"
      ]
     },
     "metadata": {},
     "output_type": "display_data"
    }
   ],
   "source": [
    "#countplot is used to create the hist or bar graphs\n",
    "#plotting Crashes by Weather\n",
    "plt.figure(1, figsize=(15, 7))\n",
    "plt.title(\"Accidents by Weather\")\n",
    "sns.countplot(x = \"weather\", order=df['weather'].value_counts().index[0:10],data=df,palette='Accent')"
   ]
  },
  {
   "cell_type": "markdown",
   "id": "1639dc94",
   "metadata": {},
   "source": [
    "#### From the above graph we can see that accidents happen more when weather is clear. So, our hypothesis is False."
   ]
  },
  {
   "cell_type": "markdown",
   "id": "b7f6abb9",
   "metadata": {},
   "source": [
    "## Hypothesis 2:  Crashes mostly happen in the day light."
   ]
  },
  {
   "cell_type": "code",
   "execution_count": 220,
   "id": "d813cd8d",
   "metadata": {},
   "outputs": [],
   "source": [
    "#plotting lightconditions\n",
    "#import matplotlib.pyplot as plt\n",
    "#data = df.lightcond\n",
    "#p = plt.hist(data,facecolor='teal',edgecolor='purple')\n",
    "#plt.xticks(rotation='vertical')               #rotating vertically so that x-axis values doesnot merge with eachother.\n",
    "    \n",
    "#plt.show()"
   ]
  },
  {
   "cell_type": "markdown",
   "id": "cef4202c",
   "metadata": {},
   "source": [
    "### So, here crashes tends to happen in the daylight. So, our hypothesis is True."
   ]
  },
  {
   "cell_type": "markdown",
   "id": "a2dc80ae",
   "metadata": {},
   "source": [
    "#### Also, from the OHSO report we can see that accidents tends to happen on Daylight\n",
    "#### Daylight – 49,455 crashes\n",
    "#### Darkness – 7,796 crashes (with lighting), 8,078 crashes (without lighting), 205 crashes (lighting unknown)\n",
    "#### Reference: https://oklahomalawyer.com/time-day-car-accidents-likely-happen/"
   ]
  },
  {
   "cell_type": "markdown",
   "id": "175846dc",
   "metadata": {},
   "source": [
    "## Hypothesis 2 : Percentage of Injuries during crash will be less."
   ]
  },
  {
   "cell_type": "code",
   "execution_count": 221,
   "id": "24c92993",
   "metadata": {},
   "outputs": [
    {
     "data": {
      "image/png": "[encoded data removed]",
      "text/plain": [
       "<Figure size 432x288 with 1 Axes>"
      ]
     },
     "metadata": {},
     "output_type": "display_data"
    }
   ],
   "source": [
    "d=df['injuries'].value_counts()\n",
    "d.plot.pie(radius=1.3,explode=[0,0.05],autopct='%1.1f%%',shadow=True, colors='gr')\n",
    "plt.title('Injuries occured during crash')\n",
    "plt.show()\n",
    "\n",
    "#plotting pie chart to display percentage of injuries."
   ]
  },
  {
   "cell_type": "markdown",
   "id": "3412580d",
   "metadata": {},
   "source": [
    "#### From the graph we can see there were only 15% injuries during crashes. So, our hypothesis is True."
   ]
  },
  {
   "cell_type": "code",
   "execution_count": 222,
   "id": "e6e50616",
   "metadata": {},
   "outputs": [
    {
     "data": {
      "text/plain": [
       "3       2012-02-22 20:09:05+00:00\n",
       "4       2012-02-27 18:02:25+00:00\n",
       "5       2012-02-28 21:15:17+00:00\n",
       "6       2012-02-28 23:00:09+00:00\n",
       "8       2012-03-01 22:39:16+00:00\n",
       "                   ...           \n",
       "25484   2015-03-22 18:43:25+00:00\n",
       "25485   2015-03-24 16:33:00+00:00\n",
       "25486   2015-03-25 15:09:00+00:00\n",
       "25487   2015-03-24 20:52:30+00:00\n",
       "25488   2015-03-27 15:16:00+00:00\n",
       "Name: crash_date, Length: 20814, dtype: datetime64[ns, UTC]"
      ]
     },
     "execution_count": 222,
     "metadata": {},
     "output_type": "execute_result"
    }
   ],
   "source": [
    "df.crash_date = pd.to_datetime(df.crash_date)  #getting crash dates\n",
    "df.crash_date"
   ]
  },
  {
   "cell_type": "markdown",
   "id": "3918d1b8",
   "metadata": {},
   "source": [
    "## Hypothesis 3: Mornings Tends to have more crashes.\n"
   ]
  },
  {
   "cell_type": "code",
   "execution_count": 223,
   "id": "77fbba5f",
   "metadata": {},
   "outputs": [
    {
     "data": {
      "text/plain": [
       "Text(0.5, 0, 'Hours')"
      ]
     },
     "execution_count": 223,
     "metadata": {},
     "output_type": "execute_result"
    },
    {
     "data": {
      "image/png": "[encoded data removed]",
      "text/plain": [
       "<Figure size 432x288 with 1 Axes>"
      ]
     },
     "metadata": {},
     "output_type": "display_data"
    }
   ],
   "source": [
    "sns.histplot(df.crash_date.dt.hour, bins=24,color='purple',edgecolor='black')\n",
    "plt.title('Crash by time')             #assigning the title\n",
    "plt.xlabel('Hours')\n",
    "\n",
    "#plotting using hist to show which time has more crashes reported."
   ]
  },
  {
   "cell_type": "markdown",
   "id": "0fb89a22",
   "metadata": {},
   "source": [
    "#### From the graph above we can see crashes happen around 7-10PM. So, our hypothesis is false. "
   ]
  },
  {
   "cell_type": "markdown",
   "id": "2d68316f",
   "metadata": {},
   "source": [
    "## Hypothesis 4:  less crashes happens on Weekends."
   ]
  },
  {
   "cell_type": "code",
   "execution_count": 224,
   "id": "28b2b012",
   "metadata": {},
   "outputs": [
    {
     "data": {
      "text/plain": [
       "<AxesSubplot:xlabel='crash_date', ylabel='Count'>"
      ]
     },
     "execution_count": 224,
     "metadata": {},
     "output_type": "execute_result"
    },
    {
     "data": {
      "image/png": "[encoded data removed]",
      "text/plain": [
       "<Figure size 432x288 with 1 Axes>"
      ]
     },
     "metadata": {},
     "output_type": "display_data"
    }
   ],
   "source": [
    "sns.histplot(df.crash_date.dt.dayofweek, bins=7,color='orange')   # Here 0-monday, 1-Tuesday....,6-Sunday\n",
    "\n",
    "#Reference: https://www.geeksforgeeks.org/python-pandas-series-dt-dayofweek/"
   ]
  },
  {
   "cell_type": "markdown",
   "id": "621ea7b7",
   "metadata": {},
   "source": [
    "#### From the graph Fridays tends to have more crashes and sunday has less crashes. So, hypothesis is True."
   ]
  },
  {
   "cell_type": "markdown",
   "id": "cc8b2d07",
   "metadata": {},
   "source": [
    "#### Also, According to the data given by OHSO report.\n",
    "#### FRIDAY reported more number of accidents and SUNDAY reported less number of accidents.\n"
   ]
  },
  {
   "cell_type": "markdown",
   "id": "ea0e24dc",
   "metadata": {},
   "source": [
    "# Year VS month\n",
    "### Here, only December 2017 didn't report any crash.\n",
    "#### This is because december 2017 data is not given in our dataset.\n",
    "\n",
    "### We can conclude that every month of the year from 2012-2017 Crashes had happened."
   ]
  },
  {
   "cell_type": "code",
   "execution_count": 225,
   "id": "f5830377",
   "metadata": {},
   "outputs": [
    {
     "data": {
      "text/plain": [
       "<AxesSubplot:xlabel='year', ylabel='month'>"
      ]
     },
     "execution_count": 225,
     "metadata": {},
     "output_type": "execute_result"
    },
    {
     "data": {
      "image/png": "[encoded data removed]",
      "text/plain": [
       "<Figure size 432x288 with 1 Axes>"
      ]
     },
     "metadata": {},
     "output_type": "display_data"
    }
   ],
   "source": [
    "import seaborn                #importing seaborn\n",
    "seaborn.set(style='whitegrid')\n",
    "seaborn.boxplot(x=\"year\",\n",
    "                y=\"month\",            #assigning X,Y axis with year and month\n",
    "                data=df)\n",
    "\n",
    "\n",
    "#plotting boxplot for Year and month"
   ]
  },
  {
   "cell_type": "markdown",
   "id": "161ae591",
   "metadata": {},
   "source": [
    "## Hypothesis 5: Wet roads tends to have more crashes."
   ]
  },
  {
   "cell_type": "code",
   "execution_count": 226,
   "id": "fb95b296",
   "metadata": {},
   "outputs": [
    {
     "data": {
      "text/plain": [
       "<AxesSubplot:xlabel='rdcondition', ylabel='Count'>"
      ]
     },
     "execution_count": 226,
     "metadata": {},
     "output_type": "execute_result"
    },
    {
     "data": {
      "image/png": "[encoded data removed]",
      "text/plain": [
       "<Figure size 432x288 with 1 Axes>"
      ]
     },
     "metadata": {},
     "output_type": "display_data"
    }
   ],
   "source": [
    "import seaborn as sns                  #importing seaborn\n",
    "import matplotlib.pyplot as plt\n",
    "sns.histplot(df.rdcondition,bins=10,color = \"seagreen\")         #plotting using hist and giving the appropriate color"
   ]
  },
  {
   "cell_type": "markdown",
   "id": "23b4fdd8",
   "metadata": {},
   "source": [
    "#### Than wet roads, dry roads had more crashes. So, our hypothesis is False."
   ]
  },
  {
   "cell_type": "markdown",
   "id": "c5396727",
   "metadata": {},
   "source": [
    "## Hypothesis 6: Winter months tend to have more crashes."
   ]
  },
  {
   "cell_type": "code",
   "execution_count": 227,
   "id": "06ad0f0f",
   "metadata": {},
   "outputs": [
    {
     "data": {
      "text/plain": [
       "<AxesSubplot:xlabel='month', ylabel='Count'>"
      ]
     },
     "execution_count": 227,
     "metadata": {},
     "output_type": "execute_result"
    },
    {
     "data": {
      "image/png": "[encoded data removed]",
      "text/plain": [
       "<Figure size 432x288 with 1 Axes>"
      ]
     },
     "metadata": {},
     "output_type": "display_data"
    }
   ],
   "source": [
    "sns.histplot(df.month,bins=12,color = \"yellow\")            #plotting no. of accidents by month\n"
   ]
  },
  {
   "cell_type": "markdown",
   "id": "a1eba553",
   "metadata": {},
   "source": [
    "#### Here MAY had many crashes reported. So, our hypothesis is False.\n",
    "\n",
    "### According to many other analysis, I found that more accidents tend to happen in Summer. \n",
    "\n",
    "### https://www.petruzelo.com/tips-are-car-accidents-more-likely-to-occur-during-winter.php#:~:text=Many%20people%20assume%20that%20accidents%20are%20more%20likely,weather%2C%20which%20makes%20accidents%20more%20likely%20to%20occur."
   ]
  },
  {
   "cell_type": "markdown",
   "id": "a26f4605",
   "metadata": {},
   "source": [
    "# Location of Crashes"
   ]
  },
  {
   "cell_type": "code",
   "execution_count": 228,
   "id": "43e678b8",
   "metadata": {},
   "outputs": [
    {
     "name": "stdout",
     "output_type": "stream",
     "text": [
      "Requirement already satisfied: folium in c:\\users\\kavya\\anaconda3\\lib\\site-packages (0.12.1)\n",
      "Requirement already satisfied: branca>=0.3.0 in c:\\users\\kavya\\anaconda3\\lib\\site-packages (from folium) (0.4.2)\n",
      "Requirement already satisfied: jinja2>=2.9 in c:\\users\\kavya\\anaconda3\\lib\\site-packages (from folium) (2.11.3)\n",
      "Requirement already satisfied: numpy in c:\\users\\kavya\\anaconda3\\lib\\site-packages (from folium) (1.20.1)\n",
      "Requirement already satisfied: requests in c:\\users\\kavya\\anaconda3\\lib\\site-packages (from folium) (2.25.1)\n",
      "Requirement already satisfied: MarkupSafe>=0.23 in c:\\users\\kavya\\anaconda3\\lib\\site-packages (from jinja2>=2.9->folium) (1.1.1)\n",
      "Requirement already satisfied: urllib3<1.27,>=1.21.1 in c:\\users\\kavya\\anaconda3\\lib\\site-packages (from requests->folium) (1.26.4)\n",
      "Requirement already satisfied: certifi>=2017.4.17 in c:\\users\\kavya\\anaconda3\\lib\\site-packages (from requests->folium) (2020.12.5)\n",
      "Requirement already satisfied: idna<3,>=2.5 in c:\\users\\kavya\\anaconda3\\lib\\site-packages (from requests->folium) (2.10)\n",
      "Requirement already satisfied: chardet<5,>=3.0.2 in c:\\users\\kavya\\anaconda3\\lib\\site-packages (from requests->folium) (4.0.0)\n",
      "12098    35.783667\n",
      "18513    35.810312\n",
      "15683    35.823261\n",
      "13038    35.779585\n",
      "7728     35.763854\n",
      "           ...    \n",
      "14275    35.698047\n",
      "7213     35.773304\n",
      "10709    35.782337\n",
      "7680     35.724909\n",
      "21628    35.799679\n",
      "Name: lat, Length: 100, dtype: float64\n",
      "12098   -78.805800\n",
      "18513   -78.781850\n",
      "15683   -78.874198\n",
      "13038   -78.796866\n",
      "7728    -78.742196\n",
      "           ...    \n",
      "14275   -78.795092\n",
      "7213    -78.806753\n",
      "10709   -78.848213\n",
      "7680    -78.817956\n",
      "21628   -78.794898\n",
      "Name: lon, Length: 100, dtype: float64\n"
     ]
    }
   ],
   "source": [
    "!pip install folium\n",
    "import folium\n",
    "for x in df[['lat', 'lon']].sample(100).iteritems(): #iterating through all the longitude and latitude values to plot\n",
    "    print(x[1])"
   ]
  },
  {
   "cell_type": "code",
   "execution_count": 229,
   "id": "fbacf8d5",
   "metadata": {},
   "outputs": [
    {
     "data": {
      "text/plain": [
       "<zip at 0x16633649ac0>"
      ]
     },
     "execution_count": 229,
     "metadata": {},
     "output_type": "execute_result"
    }
   ],
   "source": [
    "zip(list(df.lat), list(df.lon))   #zipping creates pairs"
   ]
  },
  {
   "cell_type": "code",
   "execution_count": 230,
   "id": "cd24c430",
   "metadata": {},
   "outputs": [],
   "source": [
    "from folium.plugins import HeatMap   #importing heat map from folium"
   ]
  },
  {
   "cell_type": "code",
   "execution_count": 231,
   "id": "9cb4f5d0",
   "metadata": {},
   "outputs": [],
   "source": [
    "sample_df = df.sample(int(0.001 * len(df)))          #taking one percent of data here from dataset\n",
    "lat_lon_pairs = list(zip(list(sample_df.lat), list(sample_df.lon)))  \n",
    "#creating pairs of longitude and longitude and adding them to map"
   ]
  },
  {
   "cell_type": "code",
   "execution_count": 232,
   "id": "87d7bdb8",
   "metadata": {},
   "outputs": [
    {
     "name": "stdout",
     "output_type": "stream",
     "text": [
      "Requirement already satisfied: folium in c:\\users\\kavya\\anaconda3\\lib\\site-packages (0.12.1)\n",
      "Requirement already satisfied: branca>=0.3.0 in c:\\users\\kavya\\anaconda3\\lib\\site-packages (from folium) (0.4.2)\n",
      "Requirement already satisfied: jinja2>=2.9 in c:\\users\\kavya\\anaconda3\\lib\\site-packages (from folium) (2.11.3)\n",
      "Requirement already satisfied: requests in c:\\users\\kavya\\anaconda3\\lib\\site-packages (from folium) (2.25.1)\n",
      "Requirement already satisfied: numpy in c:\\users\\kavya\\anaconda3\\lib\\site-packages (from folium) (1.20.1)\n",
      "Requirement already satisfied: MarkupSafe>=0.23 in c:\\users\\kavya\\anaconda3\\lib\\site-packages (from jinja2>=2.9->folium) (1.1.1)\n",
      "Requirement already satisfied: idna<3,>=2.5 in c:\\users\\kavya\\anaconda3\\lib\\site-packages (from requests->folium) (2.10)\n",
      "Requirement already satisfied: urllib3<1.27,>=1.21.1 in c:\\users\\kavya\\anaconda3\\lib\\site-packages (from requests->folium) (1.26.4)\n",
      "Requirement already satisfied: chardet<5,>=3.0.2 in c:\\users\\kavya\\anaconda3\\lib\\site-packages (from requests->folium) (4.0.0)\n",
      "Requirement already satisfied: certifi>=2017.4.17 in c:\\users\\kavya\\anaconda3\\lib\\site-packages (from requests->folium) (2020.12.5)\n"
     ]
    },
    {
     "data": {
      "text/html": [
       "<div style=\"width:100%;\"><div style=\"position:relative;width:100%;height:0;padding-bottom:60%;\"><span style=\"color:#565656\">Make this Notebook Trusted to load map: File -> Trust Notebook</span><iframe src=\"about:blank\" style=\"position:absolute;width:100%;height:100%;left:0;top:0;border:none !important;\" data-html=%3C%21DOCTYPE%20html%3E%0A%3Chead%3E%20%20%20%20%0A%20%20%20%20%3Cmeta%20http-equiv%3D%22content-type%22%20content%3D%22text/html%3B%20charset%3DUTF-8%22%20/%3E%0A%20%20%20%20%0A%20%20%20%20%20%20%20%20%3Cscript%3E%0A%20%20%20%20%20%20%20%20%20%20%20%20L_NO_TOUCH%20%3D%20false%3B%0A%20%20%20%20%20%20%20%20%20%20%20%20L_DISABLE_3D%20%3D%20false%3B%0A%20%20%20%20%20%20%20%20%3C/script%3E%0A%20%20%20%20%0A%20%20%20%20%3Cstyle%3Ehtml%2C%20body%20%7Bwidth%3A%20100%25%3Bheight%3A%20100%25%3Bmargin%3A%200%3Bpadding%3A%200%3B%7D%3C/style%3E%0A%20%20%20%20%3Cstyle%3E%23map%20%7Bposition%3Aabsolute%3Btop%3A0%3Bbottom%3A0%3Bright%3A0%3Bleft%3A0%3B%7D%3C/style%3E%0A%20%20%20%20%3Cscript%20src%3D%22https%3A//cdn.jsdelivr.net/npm/leaflet%401.6.0/dist/leaflet.js%22%3E%3C/script%3E%0A%20%20%20%20%3Cscript%20src%3D%22https%3A//code.jquery.com/jquery-1.12.4.min.js%22%3E%3C/script%3E%0A%20%20%20%20%3Cscript%20src%3D%22https%3A//maxcdn.bootstrapcdn.com/bootstrap/3.2.0/js/bootstrap.min.js%22%3E%3C/script%3E%0A%20%20%20%20%3Cscript%20src%3D%22https%3A//cdnjs.cloudflare.com/ajax/libs/Leaflet.awesome-markers/2.0.2/leaflet.awesome-markers.js%22%3E%3C/script%3E%0A%20%20%20%20%3Clink%20rel%3D%22stylesheet%22%20href%3D%22https%3A//cdn.jsdelivr.net/npm/leaflet%401.6.0/dist/leaflet.css%22/%3E%0A%20%20%20%20%3Clink%20rel%3D%22stylesheet%22%20href%3D%22https%3A//maxcdn.bootstrapcdn.com/bootstrap/3.2.0/css/bootstrap.min.css%22/%3E%0A%20%20%20%20%3Clink%20rel%3D%22stylesheet%22%20href%3D%22https%3A//maxcdn.bootstrapcdn.com/bootstrap/3.2.0/css/bootstrap-theme.min.css%22/%3E%0A%20%20%20%20%3Clink%20rel%3D%22stylesheet%22%20href%3D%22https%3A//maxcdn.bootstrapcdn.com/font-awesome/4.6.3/css/font-awesome.min.css%22/%3E%0A%20%20%20%20%3Clink%20rel%3D%22stylesheet%22%20href%3D%22https%3A//cdnjs.cloudflare.com/ajax/libs/Leaflet.awesome-markers/2.0.2/leaflet.awesome-markers.css%22/%3E%0A%20%20%20%20%3Clink%20rel%3D%22stylesheet%22%20href%3D%22https%3A//cdn.jsdelivr.net/gh/python-visualization/folium/folium/templates/leaflet.awesome.rotate.min.css%22/%3E%0A%20%20%20%20%0A%20%20%20%20%20%20%20%20%20%20%20%20%3Cmeta%20name%3D%22viewport%22%20content%3D%22width%3Ddevice-width%2C%0A%20%20%20%20%20%20%20%20%20%20%20%20%20%20%20%20initial-scale%3D1.0%2C%20maximum-scale%3D1.0%2C%20user-scalable%3Dno%22%20/%3E%0A%20%20%20%20%20%20%20%20%20%20%20%20%3Cstyle%3E%0A%20%20%20%20%20%20%20%20%20%20%20%20%20%20%20%20%23map_de137f24e68c4d4ca4ac17595892789b%20%7B%0A%20%20%20%20%20%20%20%20%20%20%20%20%20%20%20%20%20%20%20%20position%3A%20relative%3B%0A%20%20%20%20%20%20%20%20%20%20%20%20%20%20%20%20%20%20%20%20width%3A%20100.0%25%3B%0A%20%20%20%20%20%20%20%20%20%20%20%20%20%20%20%20%20%20%20%20height%3A%20100.0%25%3B%0A%20%20%20%20%20%20%20%20%20%20%20%20%20%20%20%20%20%20%20%20left%3A%200.0%25%3B%0A%20%20%20%20%20%20%20%20%20%20%20%20%20%20%20%20%20%20%20%20top%3A%200.0%25%3B%0A%20%20%20%20%20%20%20%20%20%20%20%20%20%20%20%20%7D%0A%20%20%20%20%20%20%20%20%20%20%20%20%3C/style%3E%0A%20%20%20%20%20%20%20%20%0A%20%20%20%20%3Cscript%20src%3D%22https%3A//cdn.jsdelivr.net/gh/python-visualization/folium%40master/folium/templates/leaflet_heat.min.js%22%3E%3C/script%3E%0A%3C/head%3E%0A%3Cbody%3E%20%20%20%20%0A%20%20%20%20%0A%20%20%20%20%20%20%20%20%20%20%20%20%3Cdiv%20class%3D%22folium-map%22%20id%3D%22map_de137f24e68c4d4ca4ac17595892789b%22%20%3E%3C/div%3E%0A%20%20%20%20%20%20%20%20%0A%3C/body%3E%0A%3Cscript%3E%20%20%20%20%0A%20%20%20%20%0A%20%20%20%20%20%20%20%20%20%20%20%20var%20map_de137f24e68c4d4ca4ac17595892789b%20%3D%20L.map%28%0A%20%20%20%20%20%20%20%20%20%20%20%20%20%20%20%20%22map_de137f24e68c4d4ca4ac17595892789b%22%2C%0A%20%20%20%20%20%20%20%20%20%20%20%20%20%20%20%20%7B%0A%20%20%20%20%20%20%20%20%20%20%20%20%20%20%20%20%20%20%20%20center%3A%20%5B0%2C%200%5D%2C%0A%20%20%20%20%20%20%20%20%20%20%20%20%20%20%20%20%20%20%20%20crs%3A%20L.CRS.EPSG3857%2C%0A%20%20%20%20%20%20%20%20%20%20%20%20%20%20%20%20%20%20%20%20zoom%3A%201%2C%0A%20%20%20%20%20%20%20%20%20%20%20%20%20%20%20%20%20%20%20%20zoomControl%3A%20true%2C%0A%20%20%20%20%20%20%20%20%20%20%20%20%20%20%20%20%20%20%20%20preferCanvas%3A%20false%2C%0A%20%20%20%20%20%20%20%20%20%20%20%20%20%20%20%20%7D%0A%20%20%20%20%20%20%20%20%20%20%20%20%29%3B%0A%0A%20%20%20%20%20%20%20%20%20%20%20%20%0A%0A%20%20%20%20%20%20%20%20%0A%20%20%20%20%0A%20%20%20%20%20%20%20%20%20%20%20%20var%20tile_layer_604f3a822e75467ca8f8b73e7c16f2d1%20%3D%20L.tileLayer%28%0A%20%20%20%20%20%20%20%20%20%20%20%20%20%20%20%20%22https%3A//%7Bs%7D.tile.openstreetmap.org/%7Bz%7D/%7Bx%7D/%7By%7D.png%22%2C%0A%20%20%20%20%20%20%20%20%20%20%20%20%20%20%20%20%7B%22attribution%22%3A%20%22Data%20by%20%5Cu0026copy%3B%20%5Cu003ca%20href%3D%5C%22http%3A//openstreetmap.org%5C%22%5Cu003eOpenStreetMap%5Cu003c/a%5Cu003e%2C%20under%20%5Cu003ca%20href%3D%5C%22http%3A//www.openstreetmap.org/copyright%5C%22%5Cu003eODbL%5Cu003c/a%5Cu003e.%22%2C%20%22detectRetina%22%3A%20false%2C%20%22maxNativeZoom%22%3A%2018%2C%20%22maxZoom%22%3A%2018%2C%20%22minZoom%22%3A%200%2C%20%22noWrap%22%3A%20false%2C%20%22opacity%22%3A%201%2C%20%22subdomains%22%3A%20%22abc%22%2C%20%22tms%22%3A%20false%7D%0A%20%20%20%20%20%20%20%20%20%20%20%20%29.addTo%28map_de137f24e68c4d4ca4ac17595892789b%29%3B%0A%20%20%20%20%20%20%20%20%0A%20%20%20%20%0A%20%20%20%20%20%20%20%20%20%20%20%20var%20heat_map_589f2aaa6e1c4225aef1c5b7403d68c6%20%3D%20L.heatLayer%28%0A%20%20%20%20%20%20%20%20%20%20%20%20%20%20%20%20%5B%5B35.76127229%2C%20-78.74190408%5D%2C%20%5B35.75815046%2C%20-78.73940464%5D%2C%20%5B35.77795982%2C%20-78.87385149%5D%2C%20%5B35.75954137%2C%20-78.74137283%5D%2C%20%5B35.82276541%2C%20-78.89784429%5D%2C%20%5B35.76936742%2C%20-78.78185838%5D%2C%20%5B35.8306533%2C%20-78.76640681%5D%2C%20%5B35.75490824%2C%20-78.73025045%5D%2C%20%5B35.75100484%2C%20-78.78293201%5D%2C%20%5B35.79276459%2C%20-78.83832661%5D%2C%20%5B35.8293843%2C%20-78.77270804%5D%2C%20%5B35.77051615%2C%20-78.76188031%5D%2C%20%5B35.82717185%2C%20-78.77129741%5D%2C%20%5B35.84578098%2C%20-78.890831%5D%2C%20%5B35.79526919%2C%20-78.835559%5D%2C%20%5B35.80598929%2C%20-78.78187679%5D%2C%20%5B35.7999603%2C%20-78.77152359%5D%2C%20%5B35.79802552%2C%20-78.76600915%5D%2C%20%5B35.76939332%2C%20-78.7827929%5D%2C%20%5B35.76560929%2C%20-78.75411772%5D%5D%2C%0A%20%20%20%20%20%20%20%20%20%20%20%20%20%20%20%20%7B%22blur%22%3A%2015%2C%20%22maxZoom%22%3A%2018%2C%20%22minOpacity%22%3A%200.5%2C%20%22radius%22%3A%2025%7D%0A%20%20%20%20%20%20%20%20%20%20%20%20%29.addTo%28map_de137f24e68c4d4ca4ac17595892789b%29%3B%0A%20%20%20%20%20%20%20%20%0A%3C/script%3E onload=\"this.contentDocument.open();this.contentDocument.write(    decodeURIComponent(this.getAttribute('data-html')));this.contentDocument.close();\" allowfullscreen webkitallowfullscreen mozallowfullscreen></iframe></div></div>"
      ],
      "text/plain": [
       "<folium.folium.Map at 0x1662b2f8130>"
      ]
     },
     "execution_count": 232,
     "metadata": {},
     "output_type": "execute_result"
    }
   ],
   "source": [
    "!pip install folium\n",
    "import folium\n",
    "map = folium.Map()\n",
    "HeatMap(lat_lon_pairs).add_to(map)          #adding longitude and latitude values to map to create heat map.\n",
    "map\n",
    "\n",
    "\n",
    "# Here we can see town cary where most crashes occured."
   ]
  },
  {
   "cell_type": "markdown",
   "id": "e087de9f",
   "metadata": {},
   "source": [
    "# Road condition VS year"
   ]
  },
  {
   "cell_type": "code",
   "execution_count": 233,
   "id": "ebd99ba9",
   "metadata": {
    "scrolled": true
   },
   "outputs": [
    {
     "data": {
      "text/plain": [
       "Text(0.5, 1.0, 'Road conditions VS Year')"
      ]
     },
     "execution_count": 233,
     "metadata": {},
     "output_type": "execute_result"
    },
    {
     "data": {
      "image/png": "[encoded data removed]",
      "text/plain": [
       "<Figure size 432x288 with 1 Axes>"
      ]
     },
     "metadata": {},
     "output_type": "display_data"
    }
   ],
   "source": [
    "plt.scatter(df['month'], df['rdcondition'], c='deeppink')\n",
    "plt.xlabel('Month')                              #plotting month and roadcondition using scatter plot\n",
    "plt.ylabel('Road Condition')\n",
    "plt.title('Road conditions VS Year')             #this gives the title for scatter plot"
   ]
  },
  {
   "cell_type": "markdown",
   "id": "0fd79798",
   "metadata": {},
   "source": [
    "#### Here we can see in which month which roadcondition caused crash."
   ]
  },
  {
   "cell_type": "markdown",
   "id": "d8acd76c",
   "metadata": {},
   "source": [
    "# Conclusion\n",
    "# According to my analysis:\n",
    "## If you want to be safe on roads in the town of cary, travel on sunday evenings when weather is clear."
   ]
  }
 ],
 "metadata": {
  "kernelspec": {
   "display_name": "Python 3",
   "language": "python",
   "name": "python3"
  },
  "language_info": {
   "codemirror_mode": {
    "name": "ipython",
    "version": 3
   },
   "file_extension": ".py",
   "mimetype": "text/x-python",
   "name": "python",
   "nbconvert_exporter": "python",
   "pygments_lexer": "ipython3",
   "version": "3.8.8"
  }
 },
 "nbformat": 4,
 "nbformat_minor": 5
}
