{
 "cells": [
  {
   "cell_type": "markdown",
   "id": "d724421c",
   "metadata": {},
   "source": [
    "# 601 PROJECT 1\n",
    "\n",
    "### Dataset Source : https://catalog.data.gov/dataset/vaccines-gov-covid-19-vaccinating-provider-locations/resource/ab31aaf6-8a9f-4dd8-ab49-6813327afb94\n",
    "\n",
    "### This Anlaysis include following Hypothesis: \n",
    "1. How many vaccines instock accepts insurance?,\n",
    "2. Which state has low no. of insurance acceptance(states) for vaccine?, \n",
    "3. what is vaccine quantity last updated month?,Vaccine availability by month, \n",
    "4. Vaccine level occurences,\n",
    "5. Vaccine availability by month \n",
    "6. plotting vaccine provider locations using latitude and longitude\n",
    "7. corelation between columns"
   ]
  },
  {
   "cell_type": "code",
   "execution_count": 13,
   "id": "65d22acc",
   "metadata": {},
   "outputs": [
    {
     "name": "stdout",
     "output_type": "stream",
     "text": [
      "Requirement already satisfied: opendatasets in c:\\users\\kavya\\anaconda3\\lib\\site-packages (0.1.20)\n",
      "Requirement already satisfied: click in c:\\users\\kavya\\anaconda3\\lib\\site-packages (from opendatasets) (7.1.2)\n",
      "Requirement already satisfied: tqdm in c:\\users\\kavya\\anaconda3\\lib\\site-packages (from opendatasets) (4.59.0)\n",
      "Requirement already satisfied: kaggle in c:\\users\\kavya\\anaconda3\\lib\\site-packages (from opendatasets) (1.5.12)\n",
      "Requirement already satisfied: six>=1.10 in c:\\users\\kavya\\anaconda3\\lib\\site-packages (from kaggle->opendatasets) (1.15.0)\n",
      "Requirement already satisfied: certifi in c:\\users\\kavya\\anaconda3\\lib\\site-packages (from kaggle->opendatasets) (2020.12.5)\n",
      "Requirement already satisfied: python-slugify in c:\\users\\kavya\\anaconda3\\lib\\site-packages (from kaggle->opendatasets) (5.0.2)\n",
      "Requirement already satisfied: urllib3 in c:\\users\\kavya\\anaconda3\\lib\\site-packages (from kaggle->opendatasets) (1.26.4)\n",
      "Requirement already satisfied: python-dateutil in c:\\users\\kavya\\anaconda3\\lib\\site-packages (from kaggle->opendatasets) (2.8.1)\n",
      "Requirement already satisfied: requests in c:\\users\\kavya\\anaconda3\\lib\\site-packages (from kaggle->opendatasets) (2.25.1)\n",
      "Requirement already satisfied: text-unidecode>=1.3 in c:\\users\\kavya\\anaconda3\\lib\\site-packages (from python-slugify->kaggle->opendatasets) (1.3)\n",
      "Requirement already satisfied: chardet<5,>=3.0.2 in c:\\users\\kavya\\anaconda3\\lib\\site-packages (from requests->kaggle->opendatasets) (4.0.0)\n",
      "Requirement already satisfied: idna<3,>=2.5 in c:\\users\\kavya\\anaconda3\\lib\\site-packages (from requests->kaggle->opendatasets) (2.10)\n",
      "Note: you may need to restart the kernel to use updated packages.\n"
     ]
    }
   ],
   "source": [
    "pip install opendatasets --upgrade   #Python library for downloading datasets"
   ]
  },
  {
   "cell_type": "markdown",
   "id": "d89265b5",
   "metadata": {},
   "source": [
    "### Downloading Dataset"
   ]
  },
  {
   "cell_type": "code",
   "execution_count": 14,
   "id": "4b4c707e",
   "metadata": {},
   "outputs": [
    {
     "name": "stdout",
     "output_type": "stream",
     "text": [
      "Using downloaded and verified file: .\\Vaccines.gov__COVID-19_vaccinating_provider_locations.csv\n"
     ]
    }
   ],
   "source": [
    "import opendatasets as od                                #importing opendatasets\n",
    "                                                         #downloading dataset from the URL\n",
    "download_url = 'https://data.cdc.gov/api/views/5jp2-pgaw/rows.csv?accessType=DOWNLOAD'\n",
    "    \n",
    "file=od.download(download_url)                                              #storing downloaded dataset to file"
   ]
  },
  {
   "cell_type": "code",
   "execution_count": 15,
   "id": "060b3192",
   "metadata": {},
   "outputs": [
    {
     "data": {
      "text/html": [
       "<div>\n",
       "<style scoped>\n",
       "    .dataframe tbody tr th:only-of-type {\n",
       "        vertical-align: middle;\n",
       "    }\n",
       "\n",
       "    .dataframe tbody tr th {\n",
       "        vertical-align: top;\n",
       "    }\n",
       "\n",
       "    .dataframe thead th {\n",
       "        text-align: right;\n",
       "    }\n",
       "</style>\n",
       "<table border=\"1\" class=\"dataframe\">\n",
       "  <thead>\n",
       "    <tr style=\"text-align: right;\">\n",
       "      <th></th>\n",
       "      <th>provider_location_guid</th>\n",
       "      <th>loc_store_no</th>\n",
       "      <th>loc_phone</th>\n",
       "      <th>loc_name</th>\n",
       "      <th>loc_admin_street1</th>\n",
       "      <th>loc_admin_street2</th>\n",
       "      <th>loc_admin_city</th>\n",
       "      <th>loc_admin_state</th>\n",
       "      <th>loc_admin_zip</th>\n",
       "      <th>sunday_hours</th>\n",
       "      <th>...</th>\n",
       "      <th>provider_notes</th>\n",
       "      <th>ndc</th>\n",
       "      <th>med_name</th>\n",
       "      <th>in_stock</th>\n",
       "      <th>supply_level</th>\n",
       "      <th>quantity_last_updated</th>\n",
       "      <th>latitude</th>\n",
       "      <th>longitude</th>\n",
       "      <th>Category</th>\n",
       "      <th>Unnamed Column</th>\n",
       "    </tr>\n",
       "  </thead>\n",
       "  <tbody>\n",
       "    <tr>\n",
       "      <th>0</th>\n",
       "      <td>5b052b7f-4a8c-4ed2-90f8-40fecd2946fe</td>\n",
       "      <td>Not applicable</td>\n",
       "      <td>(334) 566-0100</td>\n",
       "      <td>BYRD DRUG CO. INC</td>\n",
       "      <td>81 N COURT SQ</td>\n",
       "      <td>NaN</td>\n",
       "      <td>TROY</td>\n",
       "      <td>AL</td>\n",
       "      <td>36081</td>\n",
       "      <td>Closed</td>\n",
       "      <td>...</td>\n",
       "      <td>By appointment only</td>\n",
       "      <td>80777-0273-10</td>\n",
       "      <td>Moderna, COVID-19 Vaccine, 100mcg/0.5mL 10 dose</td>\n",
       "      <td>True</td>\n",
       "      <td>4</td>\n",
       "      <td>2021-05-13</td>\n",
       "      <td>31.808115</td>\n",
       "      <td>-85.971525</td>\n",
       "      <td>covid</td>\n",
       "      <td>NaN</td>\n",
       "    </tr>\n",
       "    <tr>\n",
       "      <th>1</th>\n",
       "      <td>94a3fdfd-4c50-4299-a1e5-919773574eab</td>\n",
       "      <td>Not applicable</td>\n",
       "      <td>(833) 754-2149</td>\n",
       "      <td>ACCESS WESTSIDE FAMILY HEALTH CENTER</td>\n",
       "      <td>3752 W 16TH ST</td>\n",
       "      <td>NaN</td>\n",
       "      <td>CHICAGO</td>\n",
       "      <td>IL</td>\n",
       "      <td>60623-2028</td>\n",
       "      <td>Closed</td>\n",
       "      <td>...</td>\n",
       "      <td>NaN</td>\n",
       "      <td>59676-0580-05</td>\n",
       "      <td>Janssen, COVID-19 Vaccine, 0.5 mL</td>\n",
       "      <td>False</td>\n",
       "      <td>0</td>\n",
       "      <td>2021-08-19</td>\n",
       "      <td>41.859127</td>\n",
       "      <td>-87.719686</td>\n",
       "      <td>covid</td>\n",
       "      <td>NaN</td>\n",
       "    </tr>\n",
       "    <tr>\n",
       "      <th>2</th>\n",
       "      <td>bfdb7bb9-ce54-47c4-8be4-c2fb16a4942a</td>\n",
       "      <td>Not applicable</td>\n",
       "      <td>318-335-0973</td>\n",
       "      <td>Lake Are Home Health Agency, Inc. [[HOME HEALT...</td>\n",
       "      <td>114 North 11th Street</td>\n",
       "      <td>NaN</td>\n",
       "      <td>Oakdale</td>\n",
       "      <td>LA</td>\n",
       "      <td>71463</td>\n",
       "      <td>NaN</td>\n",
       "      <td>...</td>\n",
       "      <td>NaN</td>\n",
       "      <td>80777-0273-10</td>\n",
       "      <td>Moderna, COVID-19 Vaccine, 100mcg/0.5mL 10 dose</td>\n",
       "      <td>True</td>\n",
       "      <td>-1</td>\n",
       "      <td>2021-07-08</td>\n",
       "      <td>30.816047</td>\n",
       "      <td>-92.660661</td>\n",
       "      <td>covid</td>\n",
       "      <td>NaN</td>\n",
       "    </tr>\n",
       "    <tr>\n",
       "      <th>3</th>\n",
       "      <td>9fc4cb89-af3d-4f5d-8305-6a90a6355eb4</td>\n",
       "      <td>Not applicable</td>\n",
       "      <td>(540) 465-5001</td>\n",
       "      <td>Strasburg Pharmacy</td>\n",
       "      <td>33820 old Valley Pike,</td>\n",
       "      <td>Unit 7</td>\n",
       "      <td>STRASBURG</td>\n",
       "      <td>VA</td>\n",
       "      <td>22657</td>\n",
       "      <td>Closed</td>\n",
       "      <td>...</td>\n",
       "      <td>NaN</td>\n",
       "      <td>59267-1000-01</td>\n",
       "      <td>Pfizer-BioNTech, COVID-19 Vaccine, 30 mcg/0.3mL</td>\n",
       "      <td>False</td>\n",
       "      <td>0</td>\n",
       "      <td>2021-05-11</td>\n",
       "      <td>39.004413</td>\n",
       "      <td>-78.339107</td>\n",
       "      <td>covid</td>\n",
       "      <td>NaN</td>\n",
       "    </tr>\n",
       "    <tr>\n",
       "      <th>4</th>\n",
       "      <td>8a85b26f-6fde-4c8c-8f33-2ef3bf266950</td>\n",
       "      <td>36102</td>\n",
       "      <td>614-410-2814</td>\n",
       "      <td>The Little Clinic #36102</td>\n",
       "      <td>199 Graceland Blvd.</td>\n",
       "      <td>NaN</td>\n",
       "      <td>Columbus</td>\n",
       "      <td>OH</td>\n",
       "      <td>43214-1529</td>\n",
       "      <td>NaN</td>\n",
       "      <td>...</td>\n",
       "      <td>NaN</td>\n",
       "      <td>80777-0273-10</td>\n",
       "      <td>Moderna, COVID-19 Vaccine, 100mcg/0.5mL 10 doses</td>\n",
       "      <td>False</td>\n",
       "      <td>0</td>\n",
       "      <td>2021-07-24</td>\n",
       "      <td>40.065076</td>\n",
       "      <td>-83.025550</td>\n",
       "      <td>covid</td>\n",
       "      <td>NaN</td>\n",
       "    </tr>\n",
       "  </tbody>\n",
       "</table>\n",
       "<p>5 rows × 30 columns</p>\n",
       "</div>"
      ],
      "text/plain": [
       "                 provider_location_guid    loc_store_no       loc_phone  \\\n",
       "0  5b052b7f-4a8c-4ed2-90f8-40fecd2946fe  Not applicable  (334) 566-0100   \n",
       "1  94a3fdfd-4c50-4299-a1e5-919773574eab  Not applicable  (833) 754-2149   \n",
       "2  bfdb7bb9-ce54-47c4-8be4-c2fb16a4942a  Not applicable    318-335-0973   \n",
       "3  9fc4cb89-af3d-4f5d-8305-6a90a6355eb4  Not applicable  (540) 465-5001   \n",
       "4  8a85b26f-6fde-4c8c-8f33-2ef3bf266950           36102    614-410-2814   \n",
       "\n",
       "                                            loc_name       loc_admin_street1  \\\n",
       "0                                  BYRD DRUG CO. INC           81 N COURT SQ   \n",
       "1               ACCESS WESTSIDE FAMILY HEALTH CENTER          3752 W 16TH ST   \n",
       "2  Lake Are Home Health Agency, Inc. [[HOME HEALT...   114 North 11th Street   \n",
       "3                                 Strasburg Pharmacy  33820 old Valley Pike,   \n",
       "4                           The Little Clinic #36102     199 Graceland Blvd.   \n",
       "\n",
       "  loc_admin_street2 loc_admin_city loc_admin_state loc_admin_zip sunday_hours  \\\n",
       "0               NaN           TROY              AL         36081       Closed   \n",
       "1               NaN        CHICAGO              IL    60623-2028       Closed   \n",
       "2               NaN        Oakdale              LA         71463          NaN   \n",
       "3            Unit 7      STRASBURG              VA         22657       Closed   \n",
       "4               NaN       Columbus              OH    43214-1529          NaN   \n",
       "\n",
       "   ...       provider_notes            ndc  \\\n",
       "0  ...  By appointment only  80777-0273-10   \n",
       "1  ...                  NaN  59676-0580-05   \n",
       "2  ...                  NaN  80777-0273-10   \n",
       "3  ...                  NaN  59267-1000-01   \n",
       "4  ...                  NaN  80777-0273-10   \n",
       "\n",
       "                                           med_name in_stock supply_level  \\\n",
       "0   Moderna, COVID-19 Vaccine, 100mcg/0.5mL 10 dose     True            4   \n",
       "1                 Janssen, COVID-19 Vaccine, 0.5 mL    False            0   \n",
       "2   Moderna, COVID-19 Vaccine, 100mcg/0.5mL 10 dose     True           -1   \n",
       "3   Pfizer-BioNTech, COVID-19 Vaccine, 30 mcg/0.3mL    False            0   \n",
       "4  Moderna, COVID-19 Vaccine, 100mcg/0.5mL 10 doses    False            0   \n",
       "\n",
       "  quantity_last_updated   latitude  longitude Category Unnamed Column  \n",
       "0            2021-05-13  31.808115 -85.971525    covid            NaN  \n",
       "1            2021-08-19  41.859127 -87.719686    covid            NaN  \n",
       "2            2021-07-08  30.816047 -92.660661    covid            NaN  \n",
       "3            2021-05-11  39.004413 -78.339107    covid            NaN  \n",
       "4            2021-07-24  40.065076 -83.025550    covid            NaN  \n",
       "\n",
       "[5 rows x 30 columns]"
      ]
     },
     "execution_count": 15,
     "metadata": {},
     "output_type": "execute_result"
    }
   ],
   "source": [
    "import pandas as pd                                   #importing pandas\n",
    "df=pd.read_csv(r'Vaccines.gov__COVID-19_vaccinating_provider_locations.csv')  #reading downloaded dataset using dataframes as df\n",
    "df.head()           #displays top5 values from dataset"
   ]
  },
  {
   "cell_type": "markdown",
   "id": "feb7d25a",
   "metadata": {},
   "source": [
    "## DATA CLEANING"
   ]
  },
  {
   "cell_type": "code",
   "execution_count": 16,
   "id": "cd5dd5b2",
   "metadata": {},
   "outputs": [
    {
     "data": {
      "text/plain": [
       "provider_location_guid         0\n",
       "loc_store_no                   0\n",
       "loc_phone                   1421\n",
       "loc_name                       0\n",
       "loc_admin_street1             13\n",
       "loc_admin_street2         146691\n",
       "loc_admin_city                 0\n",
       "loc_admin_state                0\n",
       "loc_admin_zip                  0\n",
       "sunday_hours               48004\n",
       "monday_hours               25411\n",
       "tuesday_hours              25030\n",
       "wednesday_hours            24912\n",
       "thursday_hours             24982\n",
       "friday_hours               25645\n",
       "saturday_hours             37407\n",
       "web_address                27843\n",
       "pre_screen                 40758\n",
       "insurance_accepted         32590\n",
       "walkins_accepted           25399\n",
       "provider_notes            124304\n",
       "ndc                            0\n",
       "med_name                       0\n",
       "in_stock                       0\n",
       "supply_level                   0\n",
       "quantity_last_updated          0\n",
       "latitude                      34\n",
       "longitude                     34\n",
       "Category                       0\n",
       "Unnamed Column            196930\n",
       "dtype: int64"
      ]
     },
     "execution_count": 16,
     "metadata": {},
     "output_type": "execute_result"
    }
   ],
   "source": [
    "Nullcheck = df.isnull().sum()    #checking how many null values are present in dataset by column\n",
    "Nullcheck"
   ]
  },
  {
   "cell_type": "code",
   "execution_count": 17,
   "id": "535d661c",
   "metadata": {},
   "outputs": [],
   "source": [
    "#Filling the missing values in dataset with 0.               #filling out missing values in columns\n",
    "df.fillna({'loc_phone':'0', 'Unnamed Column':'0'},inplace=True)"
   ]
  },
  {
   "cell_type": "code",
   "execution_count": 18,
   "id": "06444661",
   "metadata": {},
   "outputs": [],
   "source": [
    "df1=df.drop_duplicates(keep='first')   #removing duplicates from the dataset"
   ]
  },
  {
   "cell_type": "code",
   "execution_count": 19,
   "id": "240e3cb0",
   "metadata": {},
   "outputs": [
    {
     "name": "stdout",
     "output_type": "stream",
     "text": [
      "(196930, 30)\n",
      "(196930, 30)\n"
     ]
    }
   ],
   "source": [
    "print(df.shape) #After checking for duplicates           #printing the shape of datasets which gives number of columns and rows\n",
    "print(df1.shape) #Before checking for duplicates     \n",
    "#so here columns and rows were same before and after. So there are no duplicate values"
   ]
  },
  {
   "cell_type": "code",
   "execution_count": 20,
   "id": "a42ae005",
   "metadata": {},
   "outputs": [
    {
     "name": "stdout",
     "output_type": "stream",
     "text": [
      "provider_location_guid         0\n",
      "loc_store_no                   0\n",
      "loc_phone                      0\n",
      "loc_name                       0\n",
      "loc_admin_street1             13\n",
      "loc_admin_street2         146691\n",
      "loc_admin_city                 0\n",
      "loc_admin_state                0\n",
      "loc_admin_zip                  0\n",
      "sunday_hours               48004\n",
      "monday_hours               25411\n",
      "tuesday_hours              25030\n",
      "wednesday_hours            24912\n",
      "thursday_hours             24982\n",
      "friday_hours               25645\n",
      "saturday_hours             37407\n",
      "web_address                27843\n",
      "pre_screen                 40758\n",
      "insurance_accepted         32590\n",
      "walkins_accepted           25399\n",
      "provider_notes            124304\n",
      "ndc                            0\n",
      "med_name                       0\n",
      "in_stock                       0\n",
      "supply_level                   0\n",
      "quantity_last_updated          0\n",
      "latitude                      34\n",
      "longitude                     34\n",
      "Category                       0\n",
      "Unnamed Column                 0\n",
      "dtype: int64\n"
     ]
    }
   ],
   "source": [
    "print(df1.isnull().sum())    "
   ]
  },
  {
   "cell_type": "code",
   "execution_count": 21,
   "id": "76007518",
   "metadata": {},
   "outputs": [],
   "source": [
    "#dropping unwanted columns\n",
    "drop_cols=['Unnamed Column','provider_notes','loc_admin_street2','web_address','pre_screen']\n",
    "df=df.drop(drop_cols,axis=1)"
   ]
  },
  {
   "cell_type": "code",
   "execution_count": 22,
   "id": "437f621d",
   "metadata": {},
   "outputs": [
    {
     "name": "stdout",
     "output_type": "stream",
     "text": [
      "provider_location_guid        0\n",
      "loc_store_no                  0\n",
      "loc_phone                     0\n",
      "loc_name                      0\n",
      "loc_admin_street1            13\n",
      "loc_admin_city                0\n",
      "loc_admin_state               0\n",
      "loc_admin_zip                 0\n",
      "sunday_hours              48004\n",
      "monday_hours              25411\n",
      "tuesday_hours             25030\n",
      "wednesday_hours           24912\n",
      "thursday_hours            24982\n",
      "friday_hours              25645\n",
      "saturday_hours            37407\n",
      "insurance_accepted        32590\n",
      "walkins_accepted          25399\n",
      "ndc                           0\n",
      "med_name                      0\n",
      "in_stock                      0\n",
      "supply_level                  0\n",
      "quantity_last_updated         0\n",
      "latitude                     34\n",
      "longitude                    34\n",
      "Category                      0\n",
      "dtype: int64\n"
     ]
    }
   ],
   "source": [
    "print(df.isnull().sum())"
   ]
  },
  {
   "cell_type": "code",
   "execution_count": 27,
   "id": "3ac291b9",
   "metadata": {},
   "outputs": [],
   "source": [
    "df.dropna(axis=0,inplace=True)    #dropping values which have null values"
   ]
  },
  {
   "cell_type": "code",
   "execution_count": 28,
   "id": "0d5d77f0",
   "metadata": {},
   "outputs": [
    {
     "name": "stdout",
     "output_type": "stream",
     "text": [
      "provider_location_guid    0\n",
      "loc_store_no              0\n",
      "loc_phone                 0\n",
      "loc_name                  0\n",
      "loc_admin_street1         0\n",
      "loc_admin_city            0\n",
      "loc_admin_state           0\n",
      "loc_admin_zip             0\n",
      "sunday_hours              0\n",
      "monday_hours              0\n",
      "tuesday_hours             0\n",
      "wednesday_hours           0\n",
      "thursday_hours            0\n",
      "friday_hours              0\n",
      "saturday_hours            0\n",
      "insurance_accepted        0\n",
      "walkins_accepted          0\n",
      "ndc                       0\n",
      "med_name                  0\n",
      "in_stock                  0\n",
      "supply_level              0\n",
      "quantity_last_updated     0\n",
      "latitude                  0\n",
      "longitude                 0\n",
      "Category                  0\n",
      "dtype: int64\n"
     ]
    }
   ],
   "source": [
    "print(df.isnull().sum())     #checking for any null values"
   ]
  },
  {
   "cell_type": "code",
   "execution_count": 25,
   "id": "79541c85",
   "metadata": {},
   "outputs": [],
   "source": [
    "df1=df.drop_duplicates(keep='first')   #dropping duplicates again to make sure they are none"
   ]
  },
  {
   "cell_type": "code",
   "execution_count": 26,
   "id": "06b7e251",
   "metadata": {},
   "outputs": [
    {
     "name": "stdout",
     "output_type": "stream",
     "text": [
      "(144024, 25)\n",
      "(144024, 25)\n"
     ]
    }
   ],
   "source": [
    "print(df.shape) #After checking for duplicates\n",
    "print(df1.shape) #Before checking for duplicates"
   ]
  },
  {
   "cell_type": "markdown",
   "id": "45b7b6b8",
   "metadata": {},
   "source": [
    "### Exploratory Data Analysis"
   ]
  },
  {
   "cell_type": "code",
   "execution_count": 9,
   "id": "9ec01250",
   "metadata": {},
   "outputs": [
    {
     "data": {
      "text/html": [
       "<div>\n",
       "<style scoped>\n",
       "    .dataframe tbody tr th:only-of-type {\n",
       "        vertical-align: middle;\n",
       "    }\n",
       "\n",
       "    .dataframe tbody tr th {\n",
       "        vertical-align: top;\n",
       "    }\n",
       "\n",
       "    .dataframe thead th {\n",
       "        text-align: right;\n",
       "    }\n",
       "</style>\n",
       "<table border=\"1\" class=\"dataframe\">\n",
       "  <thead>\n",
       "    <tr style=\"text-align: right;\">\n",
       "      <th></th>\n",
       "      <th>in_stock</th>\n",
       "      <th>supply_level</th>\n",
       "      <th>latitude</th>\n",
       "      <th>longitude</th>\n",
       "    </tr>\n",
       "  </thead>\n",
       "  <tbody>\n",
       "    <tr>\n",
       "      <th>in_stock</th>\n",
       "      <td>1.000000</td>\n",
       "      <td>0.350843</td>\n",
       "      <td>0.025726</td>\n",
       "      <td>-0.023148</td>\n",
       "    </tr>\n",
       "    <tr>\n",
       "      <th>supply_level</th>\n",
       "      <td>0.350843</td>\n",
       "      <td>1.000000</td>\n",
       "      <td>-0.069507</td>\n",
       "      <td>0.007169</td>\n",
       "    </tr>\n",
       "    <tr>\n",
       "      <th>latitude</th>\n",
       "      <td>0.025726</td>\n",
       "      <td>-0.069507</td>\n",
       "      <td>1.000000</td>\n",
       "      <td>-0.011652</td>\n",
       "    </tr>\n",
       "    <tr>\n",
       "      <th>longitude</th>\n",
       "      <td>-0.023148</td>\n",
       "      <td>0.007169</td>\n",
       "      <td>-0.011652</td>\n",
       "      <td>1.000000</td>\n",
       "    </tr>\n",
       "  </tbody>\n",
       "</table>\n",
       "</div>"
      ],
      "text/plain": [
       "              in_stock  supply_level  latitude  longitude\n",
       "in_stock      1.000000      0.350843  0.025726  -0.023148\n",
       "supply_level  0.350843      1.000000 -0.069507   0.007169\n",
       "latitude      0.025726     -0.069507  1.000000  -0.011652\n",
       "longitude    -0.023148      0.007169 -0.011652   1.000000"
      ]
     },
     "execution_count": 9,
     "metadata": {},
     "output_type": "execute_result"
    },
    {
     "data": {
      "image/png": "[encoded data removed]",
      "text/plain": [
       "<Figure size 504x504 with 2 Axes>"
      ]
     },
     "metadata": {
      "needs_background": "light"
     },
     "output_type": "display_data"
    }
   ],
   "source": [
    "#this indicates supply level and vaccines that are in stock by longitude and latitude.\n",
    "import matplotlib.pyplot as plt  \n",
    "import seaborn as sns   \n",
    "plt.figure(figsize=(7,7))\n",
    "cor= df.corr(method='pearson', min_periods=2)\n",
    "sns.heatmap(cor,annot=True)\n",
    "sns.color_palette(\"bright\")\n",
    "cor\n",
    "#here we are getting corelation between columns, negative value indicates they are inversly proportional and positive value\n",
    "#indicates they are proportional\n",
    "#strongest corelation here is supplylevel and instock."
   ]
  },
  {
   "cell_type": "code",
   "execution_count": 10,
   "id": "15833529",
   "metadata": {},
   "outputs": [
    {
     "data": {
      "text/plain": [
       "<AxesSubplot:xlabel='in_stock', ylabel='insurance_accepted'>"
      ]
     },
     "execution_count": 10,
     "metadata": {},
     "output_type": "execute_result"
    },
    {
     "data": {
      "image/png": "[encoded data removed]",
      "text/plain": [
       "<Figure size 432x432 with 1 Axes>"
      ]
     },
     "metadata": {
      "needs_background": "light"
     },
     "output_type": "display_data"
    }
   ],
   "source": [
    "#Question: How many vaccines instock accepts insurance\n",
    "#Answer: Around 95% of vaccines that are instock accepts insurance.\n",
    "import seaborn as sns\n",
    "import matplotlib.pyplot as plt\n",
    "a4_dims = (6,6)\n",
    "fig, ax = plt.subplots(figsize=a4_dims)\n",
    "sns.barplot(y=\"insurance_accepted\", x=\"in_stock\",data=df)\n",
    "\n",
    "#reference: https://seaborn.pydata.org/"
   ]
  },
  {
   "cell_type": "code",
   "execution_count": 49,
   "id": "c4e7cd10",
   "metadata": {},
   "outputs": [
    {
     "data": {
      "text/plain": [
       "<AxesSubplot:xlabel='loc_admin_state', ylabel='insurance_accepted'>"
      ]
     },
     "execution_count": 49,
     "metadata": {},
     "output_type": "execute_result"
    },
    {
     "data": {
      "image/png": "[encoded data removed]",
      "text/plain": [
       "<Figure size 1224x1224 with 1 Axes>"
      ]
     },
     "metadata": {
      "needs_background": "light"
     },
     "output_type": "display_data"
    }
   ],
   "source": [
    "#Question: Which state has low no. of insurance acceptance(states) for vaccine\n",
    "#lowa has low insurance acceptance places    \n",
    "import seaborn as sns\n",
    "import matplotlib.pyplot as plt\n",
    "a4_dims = (17,17)\n",
    "fig, ax = plt.subplots(figsize=a4_dims)\n",
    "sns.barplot(y=\"insurance_accepted\", x=\"loc_admin_state\",data=df)\n",
    "#black line here represents standard deviation.\n"
   ]
  },
  {
   "cell_type": "markdown",
   "id": "3e20c6ec",
   "metadata": {},
   "source": [
    "#Extracting the date from timestamp and plotting vaccine quantity by last updated month"
   ]
  },
  {
   "cell_type": "code",
   "execution_count": 36,
   "id": "f05403f7",
   "metadata": {},
   "outputs": [
    {
     "data": {
      "text/plain": [
       "0        2021-05-13\n",
       "1        2021-08-19\n",
       "3        2021-05-11\n",
       "7        2021-07-09\n",
       "10       2021-08-13\n",
       "            ...    \n",
       "196925   2021-10-11\n",
       "196926   2021-10-11\n",
       "196927   2021-10-10\n",
       "196928   2021-10-11\n",
       "196929   2021-10-10\n",
       "Name: quantity_last_updated, Length: 144024, dtype: datetime64[ns]"
      ]
     },
     "execution_count": 36,
     "metadata": {},
     "output_type": "execute_result"
    }
   ],
   "source": [
    "dates = pd.to_datetime(df['quantity_last_updated'], format='%Y/%m/%d')  #extracting dates from timestamp\n",
    "dates"
   ]
  },
  {
   "cell_type": "code",
   "execution_count": 37,
   "id": "61dab86a",
   "metadata": {},
   "outputs": [
    {
     "data": {
      "text/plain": [
       "0          5\n",
       "1          8\n",
       "3          5\n",
       "7          7\n",
       "10         8\n",
       "          ..\n",
       "196925    10\n",
       "196926    10\n",
       "196927    10\n",
       "196928    10\n",
       "196929    10\n",
       "Name: quantity_last_updated, Length: 144024, dtype: int64"
      ]
     },
     "execution_count": 37,
     "metadata": {},
     "output_type": "execute_result"
    }
   ],
   "source": [
    "dates.dt.month   #extracting month from date"
   ]
  },
  {
   "cell_type": "code",
   "execution_count": 38,
   "id": "3e126e59",
   "metadata": {},
   "outputs": [
    {
     "data": {
      "text/plain": [
       "<AxesSubplot:xlabel='quantity_last_updated', ylabel='Count'>"
      ]
     },
     "execution_count": 38,
     "metadata": {},
     "output_type": "execute_result"
    },
    {
     "data": {
      "image/png": "[encoded data removed]",
      "text/plain": [
       "<Figure size 432x288 with 1 Axes>"
      ]
     },
     "metadata": {
      "needs_background": "light"
     },
     "output_type": "display_data"
    }
   ],
   "source": [
    "#this represents vaccine quantity last updated month\n",
    "#Question: In which month of the year, vaccine quantity is updated.\n",
    "sns.histplot(dates.dt.month,bins=30,color = \"seagreen\")\n",
    "#Answer: Mostly vaccine updation accoured in month of october."
   ]
  },
  {
   "cell_type": "code",
   "execution_count": 40,
   "id": "284406ba",
   "metadata": {},
   "outputs": [
    {
     "data": {
      "text/plain": [
       "Text(0.5, 1.0, 'Vaccine name and month')"
      ]
     },
     "execution_count": 40,
     "metadata": {},
     "output_type": "execute_result"
    },
    {
     "data": {
      "image/png": "[encoded data removed]",
      "text/plain": [
       "<Figure size 432x288 with 1 Axes>"
      ]
     },
     "metadata": {
      "needs_background": "light"
     },
     "output_type": "display_data"
    }
   ],
   "source": [
    "#Question : Vaccine availability by month\n",
    "\n",
    "plt.scatter(df['med_name'], dates.dt.month, c='yellow')\n",
    "plt.tick_params(axis='x', labelrotation = 90)\n",
    "plt.xlabel('Vaccine name')\n",
    "plt.ylabel('Month')\n",
    "plt.title('Vaccine name and month')\n",
    "\n",
    "#Answer : Vaccine availability for moderna 10doses is available throughout the year."
   ]
  },
  {
   "cell_type": "code",
   "execution_count": 26,
   "id": "167dbbe7",
   "metadata": {},
   "outputs": [
    {
     "data": {
      "text/plain": [
       "Text(0.5, 1.0, 'Histogram for Vaccine supply level')"
      ]
     },
     "execution_count": 26,
     "metadata": {},
     "output_type": "execute_result"
    },
    {
     "data": {
      "image/png": "[encoded data removed]",
      "text/plain": [
       "<Figure size 432x288 with 1 Axes>"
      ]
     },
     "metadata": {
      "needs_background": "light"
     },
     "output_type": "display_data"
    }
   ],
   "source": [
    "#Vaccine level occurences\n",
    "plt.hist(df['supply_level'], facecolor='m',edgecolor='blue')\n",
    "plt.xlabel('Supply level of vaccines')\n",
    "plt.ylabel('Occurance of Values')\n",
    "plt.title('Histogram for Vaccine supply level')\n",
    "#4 level means here vaccines availability is more\n",
    "#3 level indicates vaccines availability is little less\n",
    "#2 level imdicates vaccines availability is less\n",
    "#1 level indicates vaccines availability is very less\n",
    "#0 level indicates vaccines availability is zero\n",
    "#-1 indicates that there is requirement but no vaccines"
   ]
  },
  {
   "cell_type": "markdown",
   "id": "874f371e",
   "metadata": {},
   "source": [
    "#4th level means here vaccines availability is more\n",
    "#3rd level indicates vaccines availability is little less\n",
    "#2nd level imdicates vaccines availability is less\n",
    "#1st level indicates vaccines availability is very less\n",
    "#0th level indicates vaccines availability is zero\n",
    "#-1  level indicates that there is requirement but no vaccines"
   ]
  },
  {
   "cell_type": "code",
   "execution_count": 41,
   "id": "f124523b",
   "metadata": {},
   "outputs": [
    {
     "data": {
      "text/plain": [
       "Text(0.5, 1.0, 'Month and supply level')"
      ]
     },
     "execution_count": 41,
     "metadata": {},
     "output_type": "execute_result"
    },
    {
     "data": {
      "image/png": "[encoded data removed]",
      "text/plain": [
       "<Figure size 432x288 with 1 Axes>"
      ]
     },
     "metadata": {
      "needs_background": "light"
     },
     "output_type": "display_data"
    }
   ],
   "source": [
    "#Question : Supply level by month\n",
    "\n",
    "plt.scatter(df['supply_level'], dates.dt.month, c='green')\n",
    "plt.tick_params(axis='x', labelrotation = 90)\n",
    "plt.xlabel('supply_level')\n",
    "plt.ylabel('Month')\n",
    "plt.title('Month and supply level')\n",
    "\n",
    "#Answer:\n",
    "# 4- sufficient "
   ]
  },
  {
   "cell_type": "code",
   "execution_count": 28,
   "id": "f0d5598a",
   "metadata": {},
   "outputs": [
    {
     "data": {
      "text/plain": [
       "0         31.808115\n",
       "1         41.859127\n",
       "2         30.816047\n",
       "3         39.004413\n",
       "4         40.065076\n",
       "            ...    \n",
       "196925    30.271687\n",
       "196926    31.229340\n",
       "196927    40.512499\n",
       "196928    44.488882\n",
       "196929    33.935574\n",
       "Name: latitude, Length: 196930, dtype: float64"
      ]
     },
     "execution_count": 28,
     "metadata": {},
     "output_type": "execute_result"
    }
   ],
   "source": [
    "df.latitude       #getting latitude values from dataset"
   ]
  },
  {
   "cell_type": "code",
   "execution_count": 29,
   "id": "c7c639c7",
   "metadata": {},
   "outputs": [
    {
     "data": {
      "text/plain": [
       "0         -85.971525\n",
       "1         -87.719686\n",
       "2         -92.660661\n",
       "3         -78.339107\n",
       "4         -83.025550\n",
       "             ...    \n",
       "196925    -97.697761\n",
       "196926    -85.435059\n",
       "196927    -88.946590\n",
       "196928    -88.064804\n",
       "196929   -117.387123\n",
       "Name: longitude, Length: 196930, dtype: float64"
      ]
     },
     "execution_count": 29,
     "metadata": {},
     "output_type": "execute_result"
    }
   ],
   "source": [
    "df.longitude   #getting longitude values from dataset"
   ]
  },
  {
   "cell_type": "markdown",
   "id": "fae7494e",
   "metadata": {},
   "source": [
    "#plotting vaccine provider locations by latitude and longitude"
   ]
  },
  {
   "cell_type": "code",
   "execution_count": 30,
   "id": "7fda098f",
   "metadata": {},
   "outputs": [],
   "source": [
    "sample_df = df.sample(int(0.1 * len(df)))         "
   ]
  },
  {
   "cell_type": "code",
   "execution_count": 31,
   "id": "92117d81",
   "metadata": {},
   "outputs": [
    {
     "data": {
      "text/plain": [
       "<AxesSubplot:xlabel='longitude', ylabel='latitude'>"
      ]
     },
     "execution_count": 31,
     "metadata": {},
     "output_type": "execute_result"
    },
    {
     "data": {
      "image/png": "[encoded data removed]",
      "text/plain": [
       "<Figure size 432x288 with 1 Axes>"
      ]
     },
     "metadata": {
      "needs_background": "light"
     },
     "output_type": "display_data"
    }
   ],
   "source": [
    "sns.scatterplot(x=sample_df.longitude, y=sample_df.latitude, size=0.001)      \n",
    "#plotting locations using latitude and longitude"
   ]
  },
  {
   "cell_type": "markdown",
   "id": "e7a77569",
   "metadata": {},
   "source": [
    "#as the above plotting is not that clearly understandable. used heat map to plot the same"
   ]
  },
  {
   "cell_type": "code",
   "execution_count": 29,
   "id": "e1eef3b4",
   "metadata": {},
   "outputs": [
    {
     "data": {
      "text/plain": [
       "(31.808115, -85.971525)"
      ]
     },
     "execution_count": 29,
     "metadata": {},
     "output_type": "execute_result"
    }
   ],
   "source": [
    "import folium                    #importing folium, built primarily to help people visualize geospatial data\n",
    "lat,lon= df.latitude[0], df.longitude[0]\n",
    "lat,lon"
   ]
  },
  {
   "cell_type": "code",
   "execution_count": 30,
   "id": "c159bba5",
   "metadata": {},
   "outputs": [
    {
     "name": "stdout",
     "output_type": "stream",
     "text": [
      "11564     32.321418\n",
      "28507     35.573245\n",
      "169634    38.880867\n",
      "183815    38.759118\n",
      "144970    44.994627\n",
      "            ...    \n",
      "140967    40.101671\n",
      "60056     35.686657\n",
      "181652    39.989245\n",
      "180278    44.259801\n",
      "153405    34.877089\n",
      "Name: latitude, Length: 100, dtype: float64\n",
      "11564     -96.215392\n",
      "28507     -88.815720\n",
      "169634    -94.758481\n",
      "183815    -76.807310\n",
      "144970   -124.004907\n",
      "             ...    \n",
      "140967    -85.710328\n",
      "60056     -88.858251\n",
      "181652    -83.005419\n",
      "180278    -88.273308\n",
      "153405    -84.325754\n",
      "Name: longitude, Length: 100, dtype: float64\n"
     ]
    }
   ],
   "source": [
    "for x in df[['latitude', 'longitude']].sample(100).iteritems(): #iterating through all the longitude and latitude values to plot\n",
    "    print(x[1])"
   ]
  },
  {
   "cell_type": "code",
   "execution_count": 31,
   "id": "078c9cb9",
   "metadata": {},
   "outputs": [
    {
     "data": {
      "text/plain": [
       "<zip at 0x1bc6d821440>"
      ]
     },
     "execution_count": 31,
     "metadata": {},
     "output_type": "execute_result"
    }
   ],
   "source": [
    "zip(list(df.latitude), list(df.longitude))   #zipping creates pairs"
   ]
  },
  {
   "cell_type": "code",
   "execution_count": 32,
   "id": "cde2add4",
   "metadata": {},
   "outputs": [],
   "source": [
    "from folium.plugins import HeatMap   #importing heat map from folium"
   ]
  },
  {
   "cell_type": "code",
   "execution_count": 33,
   "id": "c3b9ef14",
   "metadata": {},
   "outputs": [],
   "source": [
    "sample_df = df.sample(int(0.001 * len(df)))          #taking one percent of data here from dataset\n",
    "lat_lon_pairs = list(zip(list(sample_df.latitude), list(sample_df.longitude)))  \n",
    "#creating pairs of longitude and longitude and adding them to map"
   ]
  },
  {
   "cell_type": "code",
   "execution_count": 34,
   "id": "1942caf7",
   "metadata": {},
   "outputs": [
    {
     "data": {
      "text/html": [
       "<div style=\"width:100%;\"><div style=\"position:relative;width:100%;height:0;padding-bottom:60%;\"><span style=\"color:#565656\">Make this Notebook Trusted to load map: File -> Trust Notebook</span><iframe src=\"about:blank\" style=\"position:absolute;width:100%;height:100%;left:0;top:0;border:none !important;\" data-html=%3C%21DOCTYPE%20html%3E%0A%3Chead%3E%20%20%20%20%0A%20%20%20%20%3Cmeta%20http-equiv%3D%22content-type%22%20content%3D%22text/html%3B%20charset%3DUTF-8%22%20/%3E%0A%20%20%20%20%0A%20%20%20%20%20%20%20%20%3Cscript%3E%0A%20%20%20%20%20%20%20%20%20%20%20%20L_NO_TOUCH%20%3D%20false%3B%0A%20%20%20%20%20%20%20%20%20%20%20%20L_DISABLE_3D%20%3D%20false%3B%0A%20%20%20%20%20%20%20%20%3C/script%3E%0A%20%20%20%20%0A%20%20%20%20%3Cstyle%3Ehtml%2C%20body%20%7Bwidth%3A%20100%25%3Bheight%3A%20100%25%3Bmargin%3A%200%3Bpadding%3A%200%3B%7D%3C/style%3E%0A%20%20%20%20%3Cstyle%3E%23map%20%7Bposition%3Aabsolute%3Btop%3A0%3Bbottom%3A0%3Bright%3A0%3Bleft%3A0%3B%7D%3C/style%3E%0A%20%20%20%20%3Cscript%20src%3D%22https%3A//cdn.jsdelivr.net/npm/leaflet%401.6.0/dist/leaflet.js%22%3E%3C/script%3E%0A%20%20%20%20%3Cscript%20src%3D%22https%3A//code.jquery.com/jquery-1.12.4.min.js%22%3E%3C/script%3E%0A%20%20%20%20%3Cscript%20src%3D%22https%3A//maxcdn.bootstrapcdn.com/bootstrap/3.2.0/js/bootstrap.min.js%22%3E%3C/script%3E%0A%20%20%20%20%3Cscript%20src%3D%22https%3A//cdnjs.cloudflare.com/ajax/libs/Leaflet.awesome-markers/2.0.2/leaflet.awesome-markers.js%22%3E%3C/script%3E%0A%20%20%20%20%3Clink%20rel%3D%22stylesheet%22%20href%3D%22https%3A//cdn.jsdelivr.net/npm/leaflet%401.6.0/dist/leaflet.css%22/%3E%0A%20%20%20%20%3Clink%20rel%3D%22stylesheet%22%20href%3D%22https%3A//maxcdn.bootstrapcdn.com/bootstrap/3.2.0/css/bootstrap.min.css%22/%3E%0A%20%20%20%20%3Clink%20rel%3D%22stylesheet%22%20href%3D%22https%3A//maxcdn.bootstrapcdn.com/bootstrap/3.2.0/css/bootstrap-theme.min.css%22/%3E%0A%20%20%20%20%3Clink%20rel%3D%22stylesheet%22%20href%3D%22https%3A//maxcdn.bootstrapcdn.com/font-awesome/4.6.3/css/font-awesome.min.css%22/%3E%0A%20%20%20%20%3Clink%20rel%3D%22stylesheet%22%20href%3D%22https%3A//cdnjs.cloudflare.com/ajax/libs/Leaflet.awesome-markers/2.0.2/leaflet.awesome-markers.css%22/%3E%0A%20%20%20%20%3Clink%20rel%3D%22stylesheet%22%20href%3D%22https%3A//cdn.jsdelivr.net/gh/python-visualization/folium/folium/templates/leaflet.awesome.rotate.min.css%22/%3E%0A%20%20%20%20%0A%20%20%20%20%20%20%20%20%20%20%20%20%3Cmeta%20name%3D%22viewport%22%20content%3D%22width%3Ddevice-width%2C%0A%20%20%20%20%20%20%20%20%20%20%20%20%20%20%20%20initial-scale%3D1.0%2C%20maximum-scale%3D1.0%2C%20user-scalable%3Dno%22%20/%3E%0A%20%20%20%20%20%20%20%20%20%20%20%20%3Cstyle%3E%0A%20%20%20%20%20%20%20%20%20%20%20%20%20%20%20%20%23map_53a8daf49f97406a8d079fcf5a699204%20%7B%0A%20%20%20%20%20%20%20%20%20%20%20%20%20%20%20%20%20%20%20%20position%3A%20relative%3B%0A%20%20%20%20%20%20%20%20%20%20%20%20%20%20%20%20%20%20%20%20width%3A%20100.0%25%3B%0A%20%20%20%20%20%20%20%20%20%20%20%20%20%20%20%20%20%20%20%20height%3A%20100.0%25%3B%0A%20%20%20%20%20%20%20%20%20%20%20%20%20%20%20%20%20%20%20%20left%3A%200.0%25%3B%0A%20%20%20%20%20%20%20%20%20%20%20%20%20%20%20%20%20%20%20%20top%3A%200.0%25%3B%0A%20%20%20%20%20%20%20%20%20%20%20%20%20%20%20%20%7D%0A%20%20%20%20%20%20%20%20%20%20%20%20%3C/style%3E%0A%20%20%20%20%20%20%20%20%0A%20%20%20%20%3Cscript%20src%3D%22https%3A//cdn.jsdelivr.net/gh/python-visualization/folium%40master/folium/templates/leaflet_heat.min.js%22%3E%3C/script%3E%0A%3C/head%3E%0A%3Cbody%3E%20%20%20%20%0A%20%20%20%20%0A%20%20%20%20%20%20%20%20%20%20%20%20%3Cdiv%20class%3D%22folium-map%22%20id%3D%22map_53a8daf49f97406a8d079fcf5a699204%22%20%3E%3C/div%3E%0A%20%20%20%20%20%20%20%20%0A%3C/body%3E%0A%3Cscript%3E%20%20%20%20%0A%20%20%20%20%0A%20%20%20%20%20%20%20%20%20%20%20%20var%20map_53a8daf49f97406a8d079fcf5a699204%20%3D%20L.map%28%0A%20%20%20%20%20%20%20%20%20%20%20%20%20%20%20%20%22map_53a8daf49f97406a8d079fcf5a699204%22%2C%0A%20%20%20%20%20%20%20%20%20%20%20%20%20%20%20%20%7B%0A%20%20%20%20%20%20%20%20%20%20%20%20%20%20%20%20%20%20%20%20center%3A%20%5B0%2C%200%5D%2C%0A%20%20%20%20%20%20%20%20%20%20%20%20%20%20%20%20%20%20%20%20crs%3A%20L.CRS.EPSG3857%2C%0A%20%20%20%20%20%20%20%20%20%20%20%20%20%20%20%20%20%20%20%20zoom%3A%201%2C%0A%20%20%20%20%20%20%20%20%20%20%20%20%20%20%20%20%20%20%20%20zoomControl%3A%20true%2C%0A%20%20%20%20%20%20%20%20%20%20%20%20%20%20%20%20%20%20%20%20preferCanvas%3A%20false%2C%0A%20%20%20%20%20%20%20%20%20%20%20%20%20%20%20%20%7D%0A%20%20%20%20%20%20%20%20%20%20%20%20%29%3B%0A%0A%20%20%20%20%20%20%20%20%20%20%20%20%0A%0A%20%20%20%20%20%20%20%20%0A%20%20%20%20%0A%20%20%20%20%20%20%20%20%20%20%20%20var%20tile_layer_e641ea30221940b6b013390185b1c54d%20%3D%20L.tileLayer%28%0A%20%20%20%20%20%20%20%20%20%20%20%20%20%20%20%20%22https%3A//%7Bs%7D.tile.openstreetmap.org/%7Bz%7D/%7Bx%7D/%7By%7D.png%22%2C%0A%20%20%20%20%20%20%20%20%20%20%20%20%20%20%20%20%7B%22attribution%22%3A%20%22Data%20by%20%5Cu0026copy%3B%20%5Cu003ca%20href%3D%5C%22http%3A//openstreetmap.org%5C%22%5Cu003eOpenStreetMap%5Cu003c/a%5Cu003e%2C%20under%20%5Cu003ca%20href%3D%5C%22http%3A//www.openstreetmap.org/copyright%5C%22%5Cu003eODbL%5Cu003c/a%5Cu003e.%22%2C%20%22detectRetina%22%3A%20false%2C%20%22maxNativeZoom%22%3A%2018%2C%20%22maxZoom%22%3A%2018%2C%20%22minZoom%22%3A%200%2C%20%22noWrap%22%3A%20false%2C%20%22opacity%22%3A%201%2C%20%22subdomains%22%3A%20%22abc%22%2C%20%22tms%22%3A%20false%7D%0A%20%20%20%20%20%20%20%20%20%20%20%20%29.addTo%28map_53a8daf49f97406a8d079fcf5a699204%29%3B%0A%20%20%20%20%20%20%20%20%0A%20%20%20%20%0A%20%20%20%20%20%20%20%20%20%20%20%20var%20heat_map_1e172500eb224b56af9c02e0dfbc7337%20%3D%20L.heatLayer%28%0A%20%20%20%20%20%20%20%20%20%20%20%20%20%20%20%20%5B%5B40.428349%2C%20-74.494599%5D%2C%20%5B42.964708%2C%20-71.44443%5D%2C%20%5B42.508289%2C%20-82.928517%5D%2C%20%5B35.033156%2C%20-80.968932%5D%2C%20%5B33.700038%2C%20-111.922999%5D%2C%20%5B40.608678%2C%20-73.972741%5D%2C%20%5B41.567842%2C%20-87.633858%5D%2C%20%5B28.442882%2C%20-81.475699%5D%2C%20%5B47.688236%2C%20-114.122502%5D%2C%20%5B45.09968%2C%20-92.539129%5D%2C%20%5B40.036446%2C%20-74.914186%5D%2C%20%5B41.241011%2C%20-75.859744%5D%2C%20%5B35.216521%2C%20-84.865996%5D%2C%20%5B34.522035%2C%20-117.329603%5D%2C%20%5B28.18596%2C%20-82.465596%5D%2C%20%5B42.231025%2C%20-83.38666%5D%2C%20%5B27.804216%2C%20-82.698866%5D%2C%20%5B41.757971%2C%20-88.241078%5D%2C%20%5B36.324162%2C%20-119.272606%5D%2C%20%5B33.467818%2C%20-84.21687%5D%2C%20%5B38.646786%2C%20-90.226005%5D%2C%20%5B32.411045%2C%20-99.781463%5D%2C%20%5B38.977378%2C%20-95.247144%5D%2C%20%5B39.613818%2C%20-104.811593%5D%2C%20%5B41.757602%2C%20-71.220709%5D%2C%20%5B42.256795%2C%20-84.364474%5D%2C%20%5B40.096244%2C%20-88.191552%5D%2C%20%5B28.807203%2C%20-82.578679%5D%2C%20%5B34.98745%2C%20-97.370226%5D%2C%20%5B29.03199%2C%20-95.455994%5D%2C%20%5B37.898001%2C%20-122.056578%5D%2C%20%5B37.054324%2C%20-94.533033%5D%2C%20%5B33.661164%2C%20-117.301689%5D%2C%20%5B40.310951%2C%20-111.701848%5D%2C%20%5B36.531436%2C%20-82.516575%5D%2C%20%5B33.881401%2C%20-117.925266%5D%2C%20%5B38.774404%2C%20-76.055871%5D%2C%20%5B38.615466%2C%20-90.127052%5D%2C%20%5B43.792571%2C%20-87.767262%5D%2C%20%5B35.154463%2C%20-89.794509%5D%2C%20%5B40.713422%2C%20-74.249438%5D%2C%20%5B39.988695%2C%20-104.749821%5D%2C%20%5B39.956625%2C%20-83.040417%5D%2C%20%5B35.244517%2C%20-80.892816%5D%2C%20%5B26.65045%2C%20-80.210422%5D%2C%20%5B43.190271%2C%20-77.498188%5D%2C%20%5B34.138319%2C%20-118.21529%5D%2C%20%5B33.68446%2C%20-78.957195%5D%2C%20%5B33.857417%2C%20-117.918859%5D%2C%20%5B41.697202%2C%20-93.011786%5D%2C%20%5B37.877944%2C%20-122.073506%5D%2C%20%5B39.924752%2C%20-74.99998%5D%2C%20%5B41.238725%2C%20-75.891019%5D%2C%20%5B39.034924%2C%20-87.165838%5D%2C%20%5B40.72514%2C%20-73.483712%5D%2C%20%5B35.309745%2C%20-119.092808%5D%2C%20%5B28.673627%2C%20-81.508851%5D%2C%20%5B33.786745%2C%20-84.278697%5D%2C%20%5B33.844634%2C%20-84.245496%5D%2C%20%5B42.033284%2C%20-87.728269%5D%2C%20%5B36.559921%2C%20-82.55278%5D%2C%20%5B42.637199%2C%20-83.112747%5D%2C%20%5B36.319835%2C%20-87.674219%5D%2C%20%5B32.89922%2C%20-105.945845%5D%2C%20%5B36.158634%2C%20-115.235337%5D%2C%20%5B41.526579%2C%20-74.033052%5D%2C%20%5B35.917949%2C%20-88.510575%5D%2C%20%5B29.48576%2C%20-98.731584%5D%2C%20%5B42.521278%2C%20-71.753343%5D%2C%20%5B37.877944%2C%20-122.073506%5D%2C%20%5B40.791726%2C%20-74.056909%5D%2C%20%5B29.787387%2C%20-95.696338%5D%2C%20%5B43.037141%2C%20-86.220121%5D%2C%20%5B39.640669%2C%20-85.142346%5D%2C%20%5B29.348079%2C%20-98.433673%5D%2C%20%5B31.246302%2C%20-90.472723%5D%2C%20%5B39.047323%2C%20-95.682694%5D%2C%20%5B43.188349%2C%20-76.245484%5D%2C%20%5B34.23397%2C%20-102.738682%5D%2C%20%5B32.671121%2C%20-97.003985%5D%2C%20%5B41.266528%2C%20-82.224032%5D%2C%20%5B42.93034%2C%20-85.371994%5D%2C%20%5B34.001682%2C%20-117.734233%5D%2C%20%5B31.770527%2C%20-106.371791%5D%2C%20%5B29.043104%2C%20-81.303277%5D%2C%20%5B42.368627%2C%20-72.533931%5D%2C%20%5B36.158704%2C%20-115.186484%5D%2C%20%5B29.987447%2C%20-90.131584%5D%2C%20%5B26.180341%2C%20-97.716891%5D%2C%20%5B47.321608%2C%20-122.309447%5D%2C%20%5B29.678981%2C%20-95.425662%5D%2C%20%5B41.677838%2C%20-73.011886%5D%2C%20%5B26.231443%2C%20-80.103467%5D%2C%20%5B36.87005%2C%20-119.764409%5D%2C%20%5B39.719869%2C%20-104.959887%5D%2C%20%5B42.868329%2C%20-78.71033%5D%2C%20%5B36.027535%2C%20-95.947081%5D%2C%20%5B44.963627%2C%20-89.656637%5D%2C%20%5B32.479466%2C%20-84.945737%5D%2C%20%5B34.837268%2C%20-82.355906%5D%2C%20%5B42.96155%2C%20-78.750204%5D%2C%20%5B40.012768%2C%20-75.065892%5D%2C%20%5B40.047845%2C%20-86.02436%5D%2C%20%5B44.977518%2C%20-85.65077%5D%2C%20%5B43.209099%2C%20-75.458415%5D%2C%20%5B48.788891%2C%20-122.511794%5D%2C%20%5B43.170139%2C%20-77.700602%5D%2C%20%5B43.481787%2C%20-83.982434%5D%2C%20%5B43.133944%2C%20-76.22528%5D%2C%20%5B34.050958%2C%20-84.59631%5D%2C%20%5B34.229471%2C%20-118.999163%5D%2C%20%5B39.592846%2C%20-104.881766%5D%2C%20%5B41.029519%2C%20-80.630957%5D%2C%20%5B35.201452%2C%20-87.060397%5D%2C%20%5B41.373705%2C%20-73.729306%5D%2C%20%5B37.643554%2C%20-93.104712%5D%2C%20%5B40.224897%2C%20-76.928745%5D%2C%20%5B37.660583%2C%20-97.554669%5D%2C%20%5B42.886988%2C%20-85.850303%5D%2C%20%5B33.115996%2C%20-96.650305%5D%2C%20%5B33.364032%2C%20-111.7568%5D%2C%20%5B40.811343%2C%20-76.856916%5D%2C%20%5B28.552548%2C%20-81.489082%5D%2C%20%5B42.46023%2C%20-83.182736%5D%2C%20%5B37.649036%2C%20-122.491457%5D%2C%20%5B33.786309%2C%20-84.160075%5D%2C%20%5B41.079043%2C%20-73.8635%5D%2C%20%5B42.12816%2C%20-72.059964%5D%2C%20%5B39.000591%2C%20-95.761501%5D%2C%20%5B43.318853%2C%20-88.348122%5D%2C%20%5B34.030204%2C%20-118.401842%5D%2C%20%5B42.271068%2C%20-71.026655%5D%2C%20%5B40.719749%2C%20-74.035979%5D%2C%20%5B43.300255%2C%20-73.636742%5D%2C%20%5B35.410385%2C%20-99.43609%5D%2C%20%5B38.672269%2C%20-90.332136%5D%2C%20%5B42.825129%2C%20-71.624875%5D%2C%20%5B40.681504%2C%20-112.023884%5D%2C%20%5B45.220327%2C%20-93.358257%5D%2C%20%5B38.438684%2C%20-91.013707%5D%2C%20%5B40.459264%2C%20-87.688121%5D%2C%20%5B26.805998%2C%20-80.101026%5D%2C%20%5B26.612178%2C%20-81.780368%5D%2C%20%5B28.08%2C%20-82.73766%5D%5D%2C%0A%20%20%20%20%20%20%20%20%20%20%20%20%20%20%20%20%7B%22blur%22%3A%2015%2C%20%22maxZoom%22%3A%2018%2C%20%22minOpacity%22%3A%200.5%2C%20%22radius%22%3A%2025%7D%0A%20%20%20%20%20%20%20%20%20%20%20%20%29.addTo%28map_53a8daf49f97406a8d079fcf5a699204%29%3B%0A%20%20%20%20%20%20%20%20%0A%3C/script%3E onload=\"this.contentDocument.open();this.contentDocument.write(    decodeURIComponent(this.getAttribute('data-html')));this.contentDocument.close();\" allowfullscreen webkitallowfullscreen mozallowfullscreen></iframe></div></div>"
      ],
      "text/plain": [
       "<folium.folium.Map at 0x1bc085f5a90>"
      ]
     },
     "execution_count": 34,
     "metadata": {},
     "output_type": "execute_result"
    }
   ],
   "source": [
    "map = folium.Map()\n",
    "HeatMap(lat_lon_pairs).add_to(map)          #adding longitude and latitude values to map to create heat map.\n",
    "map\n"
   ]
  },
  {
   "cell_type": "code",
   "execution_count": null,
   "id": "49bc0419",
   "metadata": {},
   "outputs": [],
   "source": []
  }
 ],
 "metadata": {
  "kernelspec": {
   "display_name": "Python 3",
   "language": "python",
   "name": "python3"
  },
  "language_info": {
   "codemirror_mode": {
    "name": "ipython",
    "version": 3
   },
   "file_extension": ".py",
   "mimetype": "text/x-python",
   "name": "python",
   "nbconvert_exporter": "python",
   "pygments_lexer": "ipython3",
   "version": "3.8.8"
  }
 },
 "nbformat": 4,
 "nbformat_minor": 5
}
